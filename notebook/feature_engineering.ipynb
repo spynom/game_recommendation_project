{
 "cells": [
  {
   "metadata": {},
   "cell_type": "markdown",
   "source": "# Importing Libraries",
   "id": "35b748c2a389a85a"
  },
  {
   "cell_type": "code",
   "id": "initial_id",
   "metadata": {
    "collapsed": true,
    "ExecuteTime": {
     "end_time": "2024-09-28T10:23:19.409059Z",
     "start_time": "2024-09-28T10:23:19.404392Z"
    }
   },
   "source": [
    "import numpy as np\n",
    "import pandas as pd\n",
    "import os\n",
    "\n",
    "from nest_asyncio import apply\n",
    "from numpy.ma.core import remainder\n",
    "from sklearn.pipeline import Pipeline\n",
    "from sklearn.compose import ColumnTransformer\n",
    "from sklearn.base import BaseEstimator, TransformerMixin\n",
    "from sklearn.feature_extraction.text import CountVectorizer\n",
    "from sklearn.preprocessing import (\n",
    "MinMaxScaler,\n",
    "OrdinalEncoder,\n",
    "FunctionTransformer,\n",
    "MaxAbsScaler,\n",
    ")\n",
    "import ast"
   ],
   "outputs": [],
   "execution_count": 105
  },
  {
   "metadata": {},
   "cell_type": "markdown",
   "source": "# Reading Data",
   "id": "85433619ba45daf8"
  },
  {
   "metadata": {
    "ExecuteTime": {
     "end_time": "2024-09-28T06:58:33.471183Z",
     "start_time": "2024-09-28T06:58:33.468280Z"
    }
   },
   "cell_type": "code",
   "source": [
    "def read_data(filename)->pd.DataFrame:\n",
    "    path=os.path.join(\"..\",\"data\",filename)\n",
    "    return pd.read_csv(path)"
   ],
   "id": "37cdff34dea10cd5",
   "outputs": [],
   "execution_count": 2
  },
  {
   "metadata": {
    "ExecuteTime": {
     "end_time": "2024-09-28T07:36:05.291672Z",
     "start_time": "2024-09-28T07:35:46.644974Z"
    }
   },
   "cell_type": "code",
   "source": "train=read_data(\"train.csv\")",
   "id": "36122233bd9533a3",
   "outputs": [],
   "execution_count": 20
  },
  {
   "metadata": {},
   "cell_type": "markdown",
   "source": "### genres",
   "id": "ff3f4258bb340f23"
  },
  {
   "metadata": {
    "ExecuteTime": {
     "end_time": "2024-09-28T07:16:26.296735Z",
     "start_time": "2024-09-28T07:16:26.290656Z"
    }
   },
   "cell_type": "code",
   "source": "train.genres",
   "id": "f35b8268c3442f37",
   "outputs": [
    {
     "data": {
      "text/plain": [
       "0         open_world_survival_craft sandbox survival 2d ...\n",
       "1         multiplayer mini_golf golf casual sports funny...\n",
       "2         co-op action fps heist multiplayer looter_shoo...\n",
       "3         cinematic online_co-op multiplayer turn-based_...\n",
       "4         open_world dark_comedy multiplayer post-apocal...\n",
       "                                ...                        \n",
       "724950    simulation adventure sports casual indie racin...\n",
       "724951    simulation adventure sports casual indie racin...\n",
       "724952    simulation adventure sports casual indie racin...\n",
       "724953    simulation adventure sports casual indie racin...\n",
       "724954    simulation adventure sports casual indie racin...\n",
       "Name: genres, Length: 724955, dtype: object"
      ]
     },
     "execution_count": 9,
     "metadata": {},
     "output_type": "execute_result"
    }
   ],
   "execution_count": 9
  },
  {
   "metadata": {},
   "cell_type": "code",
   "outputs": [],
   "execution_count": null,
   "source": "",
   "id": "8c860f8d72cff7bb"
  },
  {
   "metadata": {},
   "cell_type": "markdown",
   "source": "### release_year",
   "id": "2b38bf0a009f7c88"
  },
  {
   "metadata": {
    "ExecuteTime": {
     "end_time": "2024-09-28T05:11:42.924486Z",
     "start_time": "2024-09-28T05:11:42.915838Z"
    }
   },
   "cell_type": "code",
   "source": "train.release_year.unique()",
   "id": "bfc7f43cf78d73c1",
   "outputs": [
    {
     "data": {
      "text/plain": [
       "array([2011, 2023, 2013, 2020, 2019, 2016, 2021, 2022, 2015, 2014, 2018,\n",
       "       2017, 2024, 2009, 2010, 2006, 2007, 2012])"
      ]
     },
     "execution_count": 29,
     "metadata": {},
     "output_type": "execute_result"
    }
   ],
   "execution_count": 29
  },
  {
   "metadata": {},
   "cell_type": "markdown",
   "source": "### number_of_reviews_from_purchased_people",
   "id": "db20f2b9df1c438f"
  },
  {
   "metadata": {
    "ExecuteTime": {
     "end_time": "2024-09-28T05:18:09.799581Z",
     "start_time": "2024-09-28T05:18:09.793Z"
    }
   },
   "cell_type": "code",
   "source": "train.number_of_reviews_from_purchased_people",
   "id": "3b7f60511b47503a",
   "outputs": [
    {
     "data": {
      "text/plain": [
       "0         1061260.0\n",
       "1           22129.0\n",
       "2          431019.0\n",
       "3           13539.0\n",
       "4           61554.0\n",
       "            ...    \n",
       "724950        196.0\n",
       "724951        196.0\n",
       "724952        196.0\n",
       "724953        196.0\n",
       "724954        196.0\n",
       "Name: number_of_reviews_from_purchased_people, Length: 724955, dtype: float64"
      ]
     },
     "execution_count": 30,
     "metadata": {},
     "output_type": "execute_result"
    }
   ],
   "execution_count": 30
  },
  {
   "metadata": {},
   "cell_type": "code",
   "outputs": [],
   "execution_count": null,
   "source": "",
   "id": "fb29819c21dec9d9"
  },
  {
   "metadata": {
    "ExecuteTime": {
     "end_time": "2024-09-28T07:36:05.302732Z",
     "start_time": "2024-09-28T07:36:05.298329Z"
    }
   },
   "cell_type": "code",
   "source": "train.columns",
   "id": "597d80454cff5580",
   "outputs": [
    {
     "data": {
      "text/plain": [
       "Index(['game_name', 'short_description', 'long_description', 'genres',\n",
       "       'minimum_system_requirement', 'recommend_system_requirement',\n",
       "       'release_year', 'developer', 'publisher', 'overall_player_rating',\n",
       "       'number_of_reviews_from_purchased_people', 'number_of_english_reviews',\n",
       "       'link', 'review', 'helpful', 'funny', 'recommendation', 'username',\n",
       "       'user_id', 'game_id', 'game_avg_hrs_played', 'user_avg_hrs_played'],\n",
       "      dtype='object')"
      ]
     },
     "execution_count": 21,
     "metadata": {},
     "output_type": "execute_result"
    }
   ],
   "execution_count": 21
  },
  {
   "metadata": {
    "ExecuteTime": {
     "end_time": "2024-09-28T07:00:30.794236Z",
     "start_time": "2024-09-28T07:00:30.753542Z"
    }
   },
   "cell_type": "code",
   "source": "train.overall_player_rating.unique()",
   "id": "7f60a7d068e0981d",
   "outputs": [
    {
     "data": {
      "text/plain": [
       "array(['Overwhelmingly Positive', 'Very Positive', 'Mostly Positive',\n",
       "       'Mixed', 'Mostly Negative'], dtype=object)"
      ]
     },
     "execution_count": 6,
     "metadata": {},
     "output_type": "execute_result"
    }
   ],
   "execution_count": 6
  },
  {
   "metadata": {
    "ExecuteTime": {
     "end_time": "2024-09-28T10:22:17.523909Z",
     "start_time": "2024-09-28T10:22:17.520858Z"
    }
   },
   "cell_type": "code",
   "source": "sklearn.set_config(transform_output=\"default\")",
   "id": "60e54cd86b9c9ccd",
   "outputs": [],
   "execution_count": 102
  },
  {
   "metadata": {},
   "cell_type": "code",
   "outputs": [],
   "execution_count": null,
   "source": "",
   "id": "f139c93192195b71"
  },
  {
   "metadata": {},
   "cell_type": "markdown",
   "source": "# Final Feature Engineering PipeLine",
   "id": "f13797a8f4088b8a"
  },
  {
   "metadata": {},
   "cell_type": "code",
   "outputs": [],
   "execution_count": null,
   "source": "",
   "id": "b3d68cdf4bd58209"
  },
  {
   "metadata": {
    "ExecuteTime": {
     "end_time": "2024-09-28T08:26:02.966812Z",
     "start_time": "2024-09-28T08:26:02.844248Z"
    }
   },
   "cell_type": "code",
   "source": "OrdinalEncoder(categories=[['Overwhelmingly Positive', 'Very Positive', 'Mostly Positive','Mixed', 'Mostly Negative']]).fit_transform(train[[\"overall_player_rating\"]]).shape",
   "id": "8c7196541f52fc84",
   "outputs": [
    {
     "data": {
      "text/plain": [
       "(724955, 1)"
      ]
     },
     "execution_count": 68,
     "metadata": {},
     "output_type": "execute_result"
    }
   ],
   "execution_count": 68
  },
  {
   "metadata": {},
   "cell_type": "code",
   "outputs": [],
   "execution_count": null,
   "source": "",
   "id": "307a6cbd9ce845db"
  },
  {
   "metadata": {
    "ExecuteTime": {
     "end_time": "2024-09-28T08:11:55.202485Z",
     "start_time": "2024-09-28T08:11:54.930083Z"
    }
   },
   "cell_type": "code",
   "source": [
    "def Order_encoder(ser:pd.Series):\n",
    "    order_list=['Overwhelmingly Positive', 'Very Positive', 'Mostly Positive','Mixed', 'Mostly Negative']\n",
    "    return ser.iloc[:,0].apply(lambda x: order_list.index(x) if x in order_list else -1).values.reshape(-1,1)\n",
    "Order_encoder(train[[\"overall_player_rating\"]]).shape"
   ],
   "id": "aba1e8e62cbcb9ac",
   "outputs": [
    {
     "data": {
      "text/plain": [
       "(724955, 1)"
      ]
     },
     "execution_count": 47,
     "metadata": {},
     "output_type": "execute_result"
    }
   ],
   "execution_count": 47
  },
  {
   "metadata": {
    "ExecuteTime": {
     "end_time": "2024-09-28T08:39:48.352861Z",
     "start_time": "2024-09-28T08:39:48.347548Z"
    }
   },
   "cell_type": "code",
   "source": "train.dtypes",
   "id": "3ba69ca3234c9aa5",
   "outputs": [
    {
     "data": {
      "text/plain": [
       "game_name                                   object\n",
       "short_description                           object\n",
       "long_description                            object\n",
       "genres                                      object\n",
       "minimum_system_requirement                  object\n",
       "recommend_system_requirement                object\n",
       "release_year                                 int64\n",
       "developer                                   object\n",
       "publisher                                   object\n",
       "overall_player_rating                       object\n",
       "number_of_reviews_from_purchased_people    float64\n",
       "number_of_english_reviews                   object\n",
       "link                                        object\n",
       "review                                      object\n",
       "helpful                                      int64\n",
       "funny                                        int64\n",
       "recommendation                              object\n",
       "username                                    object\n",
       "user_id                                      int64\n",
       "game_id                                      int64\n",
       "game_avg_hrs_played                        float64\n",
       "user_avg_hrs_played                        float64\n",
       "dtype: object"
      ]
     },
     "execution_count": 86,
     "metadata": {},
     "output_type": "execute_result"
    }
   ],
   "execution_count": 86
  },
  {
   "metadata": {
    "ExecuteTime": {
     "end_time": "2024-09-28T10:29:09.023561Z",
     "start_time": "2024-09-28T10:29:08.968905Z"
    }
   },
   "cell_type": "code",
   "source": "train.recommendation.value_counts()",
   "id": "afbaa18bbb86cc57",
   "outputs": [
    {
     "data": {
      "text/plain": [
       "recommendation\n",
       "Recommended        580435\n",
       "Not Recommended    144520\n",
       "Name: count, dtype: int64"
      ]
     },
     "execution_count": 108,
     "metadata": {},
     "output_type": "execute_result"
    }
   ],
   "execution_count": 108
  },
  {
   "metadata": {
    "ExecuteTime": {
     "end_time": "2024-09-28T09:06:36.867513Z",
     "start_time": "2024-09-28T09:06:28.026821Z"
    }
   },
   "cell_type": "code",
   "source": "CountVectorizer(dtype=np.int32).fit_transform(train.genres)",
   "id": "994fff830b7763c3",
   "outputs": [
    {
     "data": {
      "text/plain": [
       "<Compressed Sparse Row sparse matrix of dtype 'int32'\n",
       "\twith 15509315 stored elements and shape (724955, 353)>"
      ]
     },
     "execution_count": 94,
     "metadata": {},
     "output_type": "execute_result"
    }
   ],
   "execution_count": 94
  },
  {
   "metadata": {
    "ExecuteTime": {
     "end_time": "2024-09-28T10:23:45.352324Z",
     "start_time": "2024-09-28T10:23:34.923340Z"
    }
   },
   "cell_type": "code",
   "source": "game_detail_transform_3.fit_transform(train[[\"genres\",\"release_year\",\"number_of_reviews_from_purchased_people\",\"overall_player_rating\",\"game_avg_hrs_played\"]])",
   "id": "1e591c82c8e1ccda",
   "outputs": [
    {
     "data": {
      "text/plain": [
       "<Compressed Sparse Row sparse matrix of dtype 'float64'\n",
       "\twith 18174662 stored elements and shape (724955, 357)>"
      ]
     },
     "execution_count": 107,
     "metadata": {},
     "output_type": "execute_result"
    }
   ],
   "execution_count": 107
  },
  {
   "metadata": {
    "ExecuteTime": {
     "end_time": "2024-09-28T10:39:59.450343Z",
     "start_time": "2024-09-28T10:39:59.443713Z"
    }
   },
   "cell_type": "code",
   "source": "FunctionTransformer(lambda ser: ser.to_numpy()).fit_transform(train[[\"game_id\"]])",
   "id": "d02eae105a24a4b2",
   "outputs": [
    {
     "data": {
      "text/plain": [
       "(724955, 1)"
      ]
     },
     "execution_count": 117,
     "metadata": {},
     "output_type": "execute_result"
    }
   ],
   "execution_count": 117
  },
  {
   "metadata": {
    "ExecuteTime": {
     "end_time": "2024-09-28T10:49:23.107956Z",
     "start_time": "2024-09-28T10:49:23.009997Z"
    }
   },
   "cell_type": "code",
   "source": [
    "\n",
    "\n",
    "game_detail_transform_1=ColumnTransformer(\n",
    "    transformers=[\n",
    "        (\"GenresTransformer\",CountVectorizer(),\"genres\"),\n",
    "        (\"overall_player_rating_transform\",FunctionTransformer(lambda ser: ser.apply( lambda x:['Overwhelmingly Positive', 'Very Positive', 'Mostly Positive','Mixed', 'Mostly Negative'].index(x)  ).to_frame()),\"overall_player_rating\")\n",
    "    ],remainder=\"passthrough\"\n",
    ")\n",
    "game_detail_transform_2=Pipeline(\n",
    "    steps=[\n",
    "        (\"game_detail_transformer_1\",game_detail_transform_1),\n",
    "        (\"scaler_release_year\",MaxAbsScaler()),\n",
    "    ]\n",
    ")\n",
    "game_detail_transform_3=ColumnTransformer(\n",
    "    transformers=[\n",
    "        (\"game_detail_transformer_2\",game_detail_transform_2,[\"genres\",\"release_year\",\"number_of_reviews_from_purchased_people\",\"overall_player_rating\",\"game_avg_hrs_played\"]),\n",
    "        \n",
    "    ],remainder=\"passthrough\"\n",
    ")\n",
    "\n",
    "column_transformer=ColumnTransformer(\n",
    "    transformers=[\n",
    "        (\"game_id\",FunctionTransformer(lambda ser: ser.to_numpy().reshape(-1,1)),\"game_id\"),\n",
    "        (\"game details transform\",game_detail_transform_3,[\"genres\",\"release_year\",\"number_of_reviews_from_purchased_people\",\"game_avg_hrs_played\",\"overall_player_rating\"]),\n",
    "        (\"user_id_pass\",FunctionTransformer(lambda ser: ser.to_numpy().reshape(-1,1)),\"user_id\"),\n",
    "        (\"minmaxscaler\",MaxAbsScaler(),[\"user_avg_hrs_played\"]),\n",
    "        (\"target_transformer\",FunctionTransformer(lambda ser: ser.apply( lambda x:[\"Not Recommended\",\"Recommended\"].index(x)  ).to_numpy().reshape(-1,1)),\"recommendation\")\n",
    "    ],remainder=\"drop\"\n",
    ")\n",
    "column_transformer"
   ],
   "id": "4a3ea10a26dac78e",
   "outputs": [
    {
     "data": {
      "text/plain": [
       "ColumnTransformer(transformers=[('game_id',\n",
       "                                 FunctionTransformer(func=<function <lambda> at 0x79d9f4102320>),\n",
       "                                 'game_id'),\n",
       "                                ('game details transform',\n",
       "                                 ColumnTransformer(remainder='passthrough',\n",
       "                                                   transformers=[('game_detail_transformer_2',\n",
       "                                                                  Pipeline(steps=[('game_detail_transformer_1',\n",
       "                                                                                   ColumnTransformer(remainder='passthrough',\n",
       "                                                                                                     transformers=[('GenresTransformer',\n",
       "                                                                                                                    Coun...\n",
       "                                 ['genres', 'release_year',\n",
       "                                  'number_of_reviews_from_purchased_people',\n",
       "                                  'game_avg_hrs_played',\n",
       "                                  'overall_player_rating']),\n",
       "                                ('user_id_pass',\n",
       "                                 FunctionTransformer(func=<function <lambda> at 0x79d9f4103250>),\n",
       "                                 'user_id'),\n",
       "                                ('minmaxscaler', MaxAbsScaler(),\n",
       "                                 ['user_avg_hrs_played']),\n",
       "                                ('target_transformer',\n",
       "                                 FunctionTransformer(func=<function <lambda> at 0x79d9f4102200>),\n",
       "                                 'recommendation')])"
      ],
      "text/html": [
       "<style>#sk-container-id-40 {\n",
       "  /* Definition of color scheme common for light and dark mode */\n",
       "  --sklearn-color-text: black;\n",
       "  --sklearn-color-line: gray;\n",
       "  /* Definition of color scheme for unfitted estimators */\n",
       "  --sklearn-color-unfitted-level-0: #fff5e6;\n",
       "  --sklearn-color-unfitted-level-1: #f6e4d2;\n",
       "  --sklearn-color-unfitted-level-2: #ffe0b3;\n",
       "  --sklearn-color-unfitted-level-3: chocolate;\n",
       "  /* Definition of color scheme for fitted estimators */\n",
       "  --sklearn-color-fitted-level-0: #f0f8ff;\n",
       "  --sklearn-color-fitted-level-1: #d4ebff;\n",
       "  --sklearn-color-fitted-level-2: #b3dbfd;\n",
       "  --sklearn-color-fitted-level-3: cornflowerblue;\n",
       "\n",
       "  /* Specific color for light theme */\n",
       "  --sklearn-color-text-on-default-background: var(--sg-text-color, var(--theme-code-foreground, var(--jp-content-font-color1, black)));\n",
       "  --sklearn-color-background: var(--sg-background-color, var(--theme-background, var(--jp-layout-color0, white)));\n",
       "  --sklearn-color-border-box: var(--sg-text-color, var(--theme-code-foreground, var(--jp-content-font-color1, black)));\n",
       "  --sklearn-color-icon: #696969;\n",
       "\n",
       "  @media (prefers-color-scheme: dark) {\n",
       "    /* Redefinition of color scheme for dark theme */\n",
       "    --sklearn-color-text-on-default-background: var(--sg-text-color, var(--theme-code-foreground, var(--jp-content-font-color1, white)));\n",
       "    --sklearn-color-background: var(--sg-background-color, var(--theme-background, var(--jp-layout-color0, #111)));\n",
       "    --sklearn-color-border-box: var(--sg-text-color, var(--theme-code-foreground, var(--jp-content-font-color1, white)));\n",
       "    --sklearn-color-icon: #878787;\n",
       "  }\n",
       "}\n",
       "\n",
       "#sk-container-id-40 {\n",
       "  color: var(--sklearn-color-text);\n",
       "}\n",
       "\n",
       "#sk-container-id-40 pre {\n",
       "  padding: 0;\n",
       "}\n",
       "\n",
       "#sk-container-id-40 input.sk-hidden--visually {\n",
       "  border: 0;\n",
       "  clip: rect(1px 1px 1px 1px);\n",
       "  clip: rect(1px, 1px, 1px, 1px);\n",
       "  height: 1px;\n",
       "  margin: -1px;\n",
       "  overflow: hidden;\n",
       "  padding: 0;\n",
       "  position: absolute;\n",
       "  width: 1px;\n",
       "}\n",
       "\n",
       "#sk-container-id-40 div.sk-dashed-wrapped {\n",
       "  border: 1px dashed var(--sklearn-color-line);\n",
       "  margin: 0 0.4em 0.5em 0.4em;\n",
       "  box-sizing: border-box;\n",
       "  padding-bottom: 0.4em;\n",
       "  background-color: var(--sklearn-color-background);\n",
       "}\n",
       "\n",
       "#sk-container-id-40 div.sk-container {\n",
       "  /* jupyter's `normalize.less` sets `[hidden] { display: none; }`\n",
       "     but bootstrap.min.css set `[hidden] { display: none !important; }`\n",
       "     so we also need the `!important` here to be able to override the\n",
       "     default hidden behavior on the sphinx rendered scikit-learn.org.\n",
       "     See: https://github.com/scikit-learn/scikit-learn/issues/21755 */\n",
       "  display: inline-block !important;\n",
       "  position: relative;\n",
       "}\n",
       "\n",
       "#sk-container-id-40 div.sk-text-repr-fallback {\n",
       "  display: none;\n",
       "}\n",
       "\n",
       "div.sk-parallel-item,\n",
       "div.sk-serial,\n",
       "div.sk-item {\n",
       "  /* draw centered vertical line to link estimators */\n",
       "  background-image: linear-gradient(var(--sklearn-color-text-on-default-background), var(--sklearn-color-text-on-default-background));\n",
       "  background-size: 2px 100%;\n",
       "  background-repeat: no-repeat;\n",
       "  background-position: center center;\n",
       "}\n",
       "\n",
       "/* Parallel-specific style estimator block */\n",
       "\n",
       "#sk-container-id-40 div.sk-parallel-item::after {\n",
       "  content: \"\";\n",
       "  width: 100%;\n",
       "  border-bottom: 2px solid var(--sklearn-color-text-on-default-background);\n",
       "  flex-grow: 1;\n",
       "}\n",
       "\n",
       "#sk-container-id-40 div.sk-parallel {\n",
       "  display: flex;\n",
       "  align-items: stretch;\n",
       "  justify-content: center;\n",
       "  background-color: var(--sklearn-color-background);\n",
       "  position: relative;\n",
       "}\n",
       "\n",
       "#sk-container-id-40 div.sk-parallel-item {\n",
       "  display: flex;\n",
       "  flex-direction: column;\n",
       "}\n",
       "\n",
       "#sk-container-id-40 div.sk-parallel-item:first-child::after {\n",
       "  align-self: flex-end;\n",
       "  width: 50%;\n",
       "}\n",
       "\n",
       "#sk-container-id-40 div.sk-parallel-item:last-child::after {\n",
       "  align-self: flex-start;\n",
       "  width: 50%;\n",
       "}\n",
       "\n",
       "#sk-container-id-40 div.sk-parallel-item:only-child::after {\n",
       "  width: 0;\n",
       "}\n",
       "\n",
       "/* Serial-specific style estimator block */\n",
       "\n",
       "#sk-container-id-40 div.sk-serial {\n",
       "  display: flex;\n",
       "  flex-direction: column;\n",
       "  align-items: center;\n",
       "  background-color: var(--sklearn-color-background);\n",
       "  padding-right: 1em;\n",
       "  padding-left: 1em;\n",
       "}\n",
       "\n",
       "\n",
       "/* Toggleable style: style used for estimator/Pipeline/ColumnTransformer box that is\n",
       "clickable and can be expanded/collapsed.\n",
       "- Pipeline and ColumnTransformer use this feature and define the default style\n",
       "- Estimators will overwrite some part of the style using the `sk-estimator` class\n",
       "*/\n",
       "\n",
       "/* Pipeline and ColumnTransformer style (default) */\n",
       "\n",
       "#sk-container-id-40 div.sk-toggleable {\n",
       "  /* Default theme specific background. It is overwritten whether we have a\n",
       "  specific estimator or a Pipeline/ColumnTransformer */\n",
       "  background-color: var(--sklearn-color-background);\n",
       "}\n",
       "\n",
       "/* Toggleable label */\n",
       "#sk-container-id-40 label.sk-toggleable__label {\n",
       "  cursor: pointer;\n",
       "  display: block;\n",
       "  width: 100%;\n",
       "  margin-bottom: 0;\n",
       "  padding: 0.5em;\n",
       "  box-sizing: border-box;\n",
       "  text-align: center;\n",
       "}\n",
       "\n",
       "#sk-container-id-40 label.sk-toggleable__label-arrow:before {\n",
       "  /* Arrow on the left of the label */\n",
       "  content: \"▸\";\n",
       "  float: left;\n",
       "  margin-right: 0.25em;\n",
       "  color: var(--sklearn-color-icon);\n",
       "}\n",
       "\n",
       "#sk-container-id-40 label.sk-toggleable__label-arrow:hover:before {\n",
       "  color: var(--sklearn-color-text);\n",
       "}\n",
       "\n",
       "/* Toggleable content - dropdown */\n",
       "\n",
       "#sk-container-id-40 div.sk-toggleable__content {\n",
       "  max-height: 0;\n",
       "  max-width: 0;\n",
       "  overflow: hidden;\n",
       "  text-align: left;\n",
       "  /* unfitted */\n",
       "  background-color: var(--sklearn-color-unfitted-level-0);\n",
       "}\n",
       "\n",
       "#sk-container-id-40 div.sk-toggleable__content.fitted {\n",
       "  /* fitted */\n",
       "  background-color: var(--sklearn-color-fitted-level-0);\n",
       "}\n",
       "\n",
       "#sk-container-id-40 div.sk-toggleable__content pre {\n",
       "  margin: 0.2em;\n",
       "  border-radius: 0.25em;\n",
       "  color: var(--sklearn-color-text);\n",
       "  /* unfitted */\n",
       "  background-color: var(--sklearn-color-unfitted-level-0);\n",
       "}\n",
       "\n",
       "#sk-container-id-40 div.sk-toggleable__content.fitted pre {\n",
       "  /* unfitted */\n",
       "  background-color: var(--sklearn-color-fitted-level-0);\n",
       "}\n",
       "\n",
       "#sk-container-id-40 input.sk-toggleable__control:checked~div.sk-toggleable__content {\n",
       "  /* Expand drop-down */\n",
       "  max-height: 200px;\n",
       "  max-width: 100%;\n",
       "  overflow: auto;\n",
       "}\n",
       "\n",
       "#sk-container-id-40 input.sk-toggleable__control:checked~label.sk-toggleable__label-arrow:before {\n",
       "  content: \"▾\";\n",
       "}\n",
       "\n",
       "/* Pipeline/ColumnTransformer-specific style */\n",
       "\n",
       "#sk-container-id-40 div.sk-label input.sk-toggleable__control:checked~label.sk-toggleable__label {\n",
       "  color: var(--sklearn-color-text);\n",
       "  background-color: var(--sklearn-color-unfitted-level-2);\n",
       "}\n",
       "\n",
       "#sk-container-id-40 div.sk-label.fitted input.sk-toggleable__control:checked~label.sk-toggleable__label {\n",
       "  background-color: var(--sklearn-color-fitted-level-2);\n",
       "}\n",
       "\n",
       "/* Estimator-specific style */\n",
       "\n",
       "/* Colorize estimator box */\n",
       "#sk-container-id-40 div.sk-estimator input.sk-toggleable__control:checked~label.sk-toggleable__label {\n",
       "  /* unfitted */\n",
       "  background-color: var(--sklearn-color-unfitted-level-2);\n",
       "}\n",
       "\n",
       "#sk-container-id-40 div.sk-estimator.fitted input.sk-toggleable__control:checked~label.sk-toggleable__label {\n",
       "  /* fitted */\n",
       "  background-color: var(--sklearn-color-fitted-level-2);\n",
       "}\n",
       "\n",
       "#sk-container-id-40 div.sk-label label.sk-toggleable__label,\n",
       "#sk-container-id-40 div.sk-label label {\n",
       "  /* The background is the default theme color */\n",
       "  color: var(--sklearn-color-text-on-default-background);\n",
       "}\n",
       "\n",
       "/* On hover, darken the color of the background */\n",
       "#sk-container-id-40 div.sk-label:hover label.sk-toggleable__label {\n",
       "  color: var(--sklearn-color-text);\n",
       "  background-color: var(--sklearn-color-unfitted-level-2);\n",
       "}\n",
       "\n",
       "/* Label box, darken color on hover, fitted */\n",
       "#sk-container-id-40 div.sk-label.fitted:hover label.sk-toggleable__label.fitted {\n",
       "  color: var(--sklearn-color-text);\n",
       "  background-color: var(--sklearn-color-fitted-level-2);\n",
       "}\n",
       "\n",
       "/* Estimator label */\n",
       "\n",
       "#sk-container-id-40 div.sk-label label {\n",
       "  font-family: monospace;\n",
       "  font-weight: bold;\n",
       "  display: inline-block;\n",
       "  line-height: 1.2em;\n",
       "}\n",
       "\n",
       "#sk-container-id-40 div.sk-label-container {\n",
       "  text-align: center;\n",
       "}\n",
       "\n",
       "/* Estimator-specific */\n",
       "#sk-container-id-40 div.sk-estimator {\n",
       "  font-family: monospace;\n",
       "  border: 1px dotted var(--sklearn-color-border-box);\n",
       "  border-radius: 0.25em;\n",
       "  box-sizing: border-box;\n",
       "  margin-bottom: 0.5em;\n",
       "  /* unfitted */\n",
       "  background-color: var(--sklearn-color-unfitted-level-0);\n",
       "}\n",
       "\n",
       "#sk-container-id-40 div.sk-estimator.fitted {\n",
       "  /* fitted */\n",
       "  background-color: var(--sklearn-color-fitted-level-0);\n",
       "}\n",
       "\n",
       "/* on hover */\n",
       "#sk-container-id-40 div.sk-estimator:hover {\n",
       "  /* unfitted */\n",
       "  background-color: var(--sklearn-color-unfitted-level-2);\n",
       "}\n",
       "\n",
       "#sk-container-id-40 div.sk-estimator.fitted:hover {\n",
       "  /* fitted */\n",
       "  background-color: var(--sklearn-color-fitted-level-2);\n",
       "}\n",
       "\n",
       "/* Specification for estimator info (e.g. \"i\" and \"?\") */\n",
       "\n",
       "/* Common style for \"i\" and \"?\" */\n",
       "\n",
       ".sk-estimator-doc-link,\n",
       "a:link.sk-estimator-doc-link,\n",
       "a:visited.sk-estimator-doc-link {\n",
       "  float: right;\n",
       "  font-size: smaller;\n",
       "  line-height: 1em;\n",
       "  font-family: monospace;\n",
       "  background-color: var(--sklearn-color-background);\n",
       "  border-radius: 1em;\n",
       "  height: 1em;\n",
       "  width: 1em;\n",
       "  text-decoration: none !important;\n",
       "  margin-left: 1ex;\n",
       "  /* unfitted */\n",
       "  border: var(--sklearn-color-unfitted-level-1) 1pt solid;\n",
       "  color: var(--sklearn-color-unfitted-level-1);\n",
       "}\n",
       "\n",
       ".sk-estimator-doc-link.fitted,\n",
       "a:link.sk-estimator-doc-link.fitted,\n",
       "a:visited.sk-estimator-doc-link.fitted {\n",
       "  /* fitted */\n",
       "  border: var(--sklearn-color-fitted-level-1) 1pt solid;\n",
       "  color: var(--sklearn-color-fitted-level-1);\n",
       "}\n",
       "\n",
       "/* On hover */\n",
       "div.sk-estimator:hover .sk-estimator-doc-link:hover,\n",
       ".sk-estimator-doc-link:hover,\n",
       "div.sk-label-container:hover .sk-estimator-doc-link:hover,\n",
       ".sk-estimator-doc-link:hover {\n",
       "  /* unfitted */\n",
       "  background-color: var(--sklearn-color-unfitted-level-3);\n",
       "  color: var(--sklearn-color-background);\n",
       "  text-decoration: none;\n",
       "}\n",
       "\n",
       "div.sk-estimator.fitted:hover .sk-estimator-doc-link.fitted:hover,\n",
       ".sk-estimator-doc-link.fitted:hover,\n",
       "div.sk-label-container:hover .sk-estimator-doc-link.fitted:hover,\n",
       ".sk-estimator-doc-link.fitted:hover {\n",
       "  /* fitted */\n",
       "  background-color: var(--sklearn-color-fitted-level-3);\n",
       "  color: var(--sklearn-color-background);\n",
       "  text-decoration: none;\n",
       "}\n",
       "\n",
       "/* Span, style for the box shown on hovering the info icon */\n",
       ".sk-estimator-doc-link span {\n",
       "  display: none;\n",
       "  z-index: 9999;\n",
       "  position: relative;\n",
       "  font-weight: normal;\n",
       "  right: .2ex;\n",
       "  padding: .5ex;\n",
       "  margin: .5ex;\n",
       "  width: min-content;\n",
       "  min-width: 20ex;\n",
       "  max-width: 50ex;\n",
       "  color: var(--sklearn-color-text);\n",
       "  box-shadow: 2pt 2pt 4pt #999;\n",
       "  /* unfitted */\n",
       "  background: var(--sklearn-color-unfitted-level-0);\n",
       "  border: .5pt solid var(--sklearn-color-unfitted-level-3);\n",
       "}\n",
       "\n",
       ".sk-estimator-doc-link.fitted span {\n",
       "  /* fitted */\n",
       "  background: var(--sklearn-color-fitted-level-0);\n",
       "  border: var(--sklearn-color-fitted-level-3);\n",
       "}\n",
       "\n",
       ".sk-estimator-doc-link:hover span {\n",
       "  display: block;\n",
       "}\n",
       "\n",
       "/* \"?\"-specific style due to the `<a>` HTML tag */\n",
       "\n",
       "#sk-container-id-40 a.estimator_doc_link {\n",
       "  float: right;\n",
       "  font-size: 1rem;\n",
       "  line-height: 1em;\n",
       "  font-family: monospace;\n",
       "  background-color: var(--sklearn-color-background);\n",
       "  border-radius: 1rem;\n",
       "  height: 1rem;\n",
       "  width: 1rem;\n",
       "  text-decoration: none;\n",
       "  /* unfitted */\n",
       "  color: var(--sklearn-color-unfitted-level-1);\n",
       "  border: var(--sklearn-color-unfitted-level-1) 1pt solid;\n",
       "}\n",
       "\n",
       "#sk-container-id-40 a.estimator_doc_link.fitted {\n",
       "  /* fitted */\n",
       "  border: var(--sklearn-color-fitted-level-1) 1pt solid;\n",
       "  color: var(--sklearn-color-fitted-level-1);\n",
       "}\n",
       "\n",
       "/* On hover */\n",
       "#sk-container-id-40 a.estimator_doc_link:hover {\n",
       "  /* unfitted */\n",
       "  background-color: var(--sklearn-color-unfitted-level-3);\n",
       "  color: var(--sklearn-color-background);\n",
       "  text-decoration: none;\n",
       "}\n",
       "\n",
       "#sk-container-id-40 a.estimator_doc_link.fitted:hover {\n",
       "  /* fitted */\n",
       "  background-color: var(--sklearn-color-fitted-level-3);\n",
       "}\n",
       "</style><div id=\"sk-container-id-40\" class=\"sk-top-container\"><div class=\"sk-text-repr-fallback\"><pre>ColumnTransformer(transformers=[(&#x27;game_id&#x27;,\n",
       "                                 FunctionTransformer(func=&lt;function &lt;lambda&gt; at 0x79d9f4102320&gt;),\n",
       "                                 &#x27;game_id&#x27;),\n",
       "                                (&#x27;game details transform&#x27;,\n",
       "                                 ColumnTransformer(remainder=&#x27;passthrough&#x27;,\n",
       "                                                   transformers=[(&#x27;game_detail_transformer_2&#x27;,\n",
       "                                                                  Pipeline(steps=[(&#x27;game_detail_transformer_1&#x27;,\n",
       "                                                                                   ColumnTransformer(remainder=&#x27;passthrough&#x27;,\n",
       "                                                                                                     transformers=[(&#x27;GenresTransformer&#x27;,\n",
       "                                                                                                                    Coun...\n",
       "                                 [&#x27;genres&#x27;, &#x27;release_year&#x27;,\n",
       "                                  &#x27;number_of_reviews_from_purchased_people&#x27;,\n",
       "                                  &#x27;game_avg_hrs_played&#x27;,\n",
       "                                  &#x27;overall_player_rating&#x27;]),\n",
       "                                (&#x27;user_id_pass&#x27;,\n",
       "                                 FunctionTransformer(func=&lt;function &lt;lambda&gt; at 0x79d9f4103250&gt;),\n",
       "                                 &#x27;user_id&#x27;),\n",
       "                                (&#x27;minmaxscaler&#x27;, MaxAbsScaler(),\n",
       "                                 [&#x27;user_avg_hrs_played&#x27;]),\n",
       "                                (&#x27;target_transformer&#x27;,\n",
       "                                 FunctionTransformer(func=&lt;function &lt;lambda&gt; at 0x79d9f4102200&gt;),\n",
       "                                 &#x27;recommendation&#x27;)])</pre><b>In a Jupyter environment, please rerun this cell to show the HTML representation or trust the notebook. <br />On GitHub, the HTML representation is unable to render, please try loading this page with nbviewer.org.</b></div><div class=\"sk-container\" hidden><div class=\"sk-item sk-dashed-wrapped\"><div class=\"sk-label-container\"><div class=\"sk-label  sk-toggleable\"><input class=\"sk-toggleable__control sk-hidden--visually\" id=\"sk-estimator-id-662\" type=\"checkbox\" ><label for=\"sk-estimator-id-662\" class=\"sk-toggleable__label  sk-toggleable__label-arrow \">&nbsp;&nbsp;ColumnTransformer<a class=\"sk-estimator-doc-link \" rel=\"noreferrer\" target=\"_blank\" href=\"https://scikit-learn.org/1.5/modules/generated/sklearn.compose.ColumnTransformer.html\">?<span>Documentation for ColumnTransformer</span></a><span class=\"sk-estimator-doc-link \">i<span>Not fitted</span></span></label><div class=\"sk-toggleable__content \"><pre>ColumnTransformer(transformers=[(&#x27;game_id&#x27;,\n",
       "                                 FunctionTransformer(func=&lt;function &lt;lambda&gt; at 0x79d9f4102320&gt;),\n",
       "                                 &#x27;game_id&#x27;),\n",
       "                                (&#x27;game details transform&#x27;,\n",
       "                                 ColumnTransformer(remainder=&#x27;passthrough&#x27;,\n",
       "                                                   transformers=[(&#x27;game_detail_transformer_2&#x27;,\n",
       "                                                                  Pipeline(steps=[(&#x27;game_detail_transformer_1&#x27;,\n",
       "                                                                                   ColumnTransformer(remainder=&#x27;passthrough&#x27;,\n",
       "                                                                                                     transformers=[(&#x27;GenresTransformer&#x27;,\n",
       "                                                                                                                    Coun...\n",
       "                                 [&#x27;genres&#x27;, &#x27;release_year&#x27;,\n",
       "                                  &#x27;number_of_reviews_from_purchased_people&#x27;,\n",
       "                                  &#x27;game_avg_hrs_played&#x27;,\n",
       "                                  &#x27;overall_player_rating&#x27;]),\n",
       "                                (&#x27;user_id_pass&#x27;,\n",
       "                                 FunctionTransformer(func=&lt;function &lt;lambda&gt; at 0x79d9f4103250&gt;),\n",
       "                                 &#x27;user_id&#x27;),\n",
       "                                (&#x27;minmaxscaler&#x27;, MaxAbsScaler(),\n",
       "                                 [&#x27;user_avg_hrs_played&#x27;]),\n",
       "                                (&#x27;target_transformer&#x27;,\n",
       "                                 FunctionTransformer(func=&lt;function &lt;lambda&gt; at 0x79d9f4102200&gt;),\n",
       "                                 &#x27;recommendation&#x27;)])</pre></div> </div></div><div class=\"sk-parallel\"><div class=\"sk-parallel-item\"><div class=\"sk-item\"><div class=\"sk-label-container\"><div class=\"sk-label  sk-toggleable\"><input class=\"sk-toggleable__control sk-hidden--visually\" id=\"sk-estimator-id-663\" type=\"checkbox\" ><label for=\"sk-estimator-id-663\" class=\"sk-toggleable__label  sk-toggleable__label-arrow \">game_id</label><div class=\"sk-toggleable__content \"><pre>game_id</pre></div> </div></div><div class=\"sk-serial\"><div class=\"sk-item\"><div class=\"sk-estimator  sk-toggleable\"><input class=\"sk-toggleable__control sk-hidden--visually\" id=\"sk-estimator-id-664\" type=\"checkbox\" ><label for=\"sk-estimator-id-664\" class=\"sk-toggleable__label  sk-toggleable__label-arrow \">&nbsp;FunctionTransformer<a class=\"sk-estimator-doc-link \" rel=\"noreferrer\" target=\"_blank\" href=\"https://scikit-learn.org/1.5/modules/generated/sklearn.preprocessing.FunctionTransformer.html\">?<span>Documentation for FunctionTransformer</span></a></label><div class=\"sk-toggleable__content \"><pre>FunctionTransformer(func=&lt;function &lt;lambda&gt; at 0x79d9f4102320&gt;)</pre></div> </div></div></div></div></div><div class=\"sk-parallel-item\"><div class=\"sk-item\"><div class=\"sk-label-container\"><div class=\"sk-label  sk-toggleable\"><input class=\"sk-toggleable__control sk-hidden--visually\" id=\"sk-estimator-id-665\" type=\"checkbox\" ><label for=\"sk-estimator-id-665\" class=\"sk-toggleable__label  sk-toggleable__label-arrow \">game details transform</label><div class=\"sk-toggleable__content \"><pre>[&#x27;genres&#x27;, &#x27;release_year&#x27;, &#x27;number_of_reviews_from_purchased_people&#x27;, &#x27;game_avg_hrs_played&#x27;, &#x27;overall_player_rating&#x27;]</pre></div> </div></div><div class=\"sk-serial\"><div class=\"sk-item sk-dashed-wrapped\"><div class=\"sk-parallel\"><div class=\"sk-parallel-item\"><div class=\"sk-item\"><div class=\"sk-label-container\"><div class=\"sk-label  sk-toggleable\"><input class=\"sk-toggleable__control sk-hidden--visually\" id=\"sk-estimator-id-666\" type=\"checkbox\" ><label for=\"sk-estimator-id-666\" class=\"sk-toggleable__label  sk-toggleable__label-arrow \">game_detail_transformer_2</label><div class=\"sk-toggleable__content \"><pre>[&#x27;genres&#x27;, &#x27;release_year&#x27;, &#x27;number_of_reviews_from_purchased_people&#x27;, &#x27;overall_player_rating&#x27;, &#x27;game_avg_hrs_played&#x27;]</pre></div> </div></div><div class=\"sk-serial\"><div class=\"sk-item\"><div class=\"sk-serial\"><div class=\"sk-item sk-dashed-wrapped\"><div class=\"sk-label-container\"><div class=\"sk-label  sk-toggleable\"><input class=\"sk-toggleable__control sk-hidden--visually\" id=\"sk-estimator-id-667\" type=\"checkbox\" ><label for=\"sk-estimator-id-667\" class=\"sk-toggleable__label  sk-toggleable__label-arrow \">&nbsp;game_detail_transformer_1: ColumnTransformer<a class=\"sk-estimator-doc-link \" rel=\"noreferrer\" target=\"_blank\" href=\"https://scikit-learn.org/1.5/modules/generated/sklearn.compose.ColumnTransformer.html\">?<span>Documentation for game_detail_transformer_1: ColumnTransformer</span></a></label><div class=\"sk-toggleable__content \"><pre>ColumnTransformer(remainder=&#x27;passthrough&#x27;,\n",
       "                  transformers=[(&#x27;GenresTransformer&#x27;, CountVectorizer(),\n",
       "                                 &#x27;genres&#x27;),\n",
       "                                (&#x27;overall_player_rating_transform&#x27;,\n",
       "                                 FunctionTransformer(func=&lt;function &lt;lambda&gt; at 0x79d9f4102ef0&gt;),\n",
       "                                 &#x27;overall_player_rating&#x27;)])</pre></div> </div></div><div class=\"sk-parallel\"><div class=\"sk-parallel-item\"><div class=\"sk-item\"><div class=\"sk-label-container\"><div class=\"sk-label  sk-toggleable\"><input class=\"sk-toggleable__control sk-hidden--visually\" id=\"sk-estimator-id-668\" type=\"checkbox\" ><label for=\"sk-estimator-id-668\" class=\"sk-toggleable__label  sk-toggleable__label-arrow \">GenresTransformer</label><div class=\"sk-toggleable__content \"><pre>genres</pre></div> </div></div><div class=\"sk-serial\"><div class=\"sk-item\"><div class=\"sk-estimator  sk-toggleable\"><input class=\"sk-toggleable__control sk-hidden--visually\" id=\"sk-estimator-id-669\" type=\"checkbox\" ><label for=\"sk-estimator-id-669\" class=\"sk-toggleable__label  sk-toggleable__label-arrow \">&nbsp;CountVectorizer<a class=\"sk-estimator-doc-link \" rel=\"noreferrer\" target=\"_blank\" href=\"https://scikit-learn.org/1.5/modules/generated/sklearn.feature_extraction.text.CountVectorizer.html\">?<span>Documentation for CountVectorizer</span></a></label><div class=\"sk-toggleable__content \"><pre>CountVectorizer()</pre></div> </div></div></div></div></div><div class=\"sk-parallel-item\"><div class=\"sk-item\"><div class=\"sk-label-container\"><div class=\"sk-label  sk-toggleable\"><input class=\"sk-toggleable__control sk-hidden--visually\" id=\"sk-estimator-id-670\" type=\"checkbox\" ><label for=\"sk-estimator-id-670\" class=\"sk-toggleable__label  sk-toggleable__label-arrow \">overall_player_rating_transform</label><div class=\"sk-toggleable__content \"><pre>overall_player_rating</pre></div> </div></div><div class=\"sk-serial\"><div class=\"sk-item\"><div class=\"sk-estimator  sk-toggleable\"><input class=\"sk-toggleable__control sk-hidden--visually\" id=\"sk-estimator-id-671\" type=\"checkbox\" ><label for=\"sk-estimator-id-671\" class=\"sk-toggleable__label  sk-toggleable__label-arrow \">&nbsp;FunctionTransformer<a class=\"sk-estimator-doc-link \" rel=\"noreferrer\" target=\"_blank\" href=\"https://scikit-learn.org/1.5/modules/generated/sklearn.preprocessing.FunctionTransformer.html\">?<span>Documentation for FunctionTransformer</span></a></label><div class=\"sk-toggleable__content \"><pre>FunctionTransformer(func=&lt;function &lt;lambda&gt; at 0x79d9f4102ef0&gt;)</pre></div> </div></div></div></div></div><div class=\"sk-parallel-item\"><div class=\"sk-item\"><div class=\"sk-label-container\"><div class=\"sk-label  sk-toggleable\"><input class=\"sk-toggleable__control sk-hidden--visually\" id=\"sk-estimator-id-672\" type=\"checkbox\" ><label for=\"sk-estimator-id-672\" class=\"sk-toggleable__label  sk-toggleable__label-arrow \">remainder</label><div class=\"sk-toggleable__content \"><pre></pre></div> </div></div><div class=\"sk-serial\"><div class=\"sk-item\"><div class=\"sk-estimator  sk-toggleable\"><input class=\"sk-toggleable__control sk-hidden--visually\" id=\"sk-estimator-id-673\" type=\"checkbox\" ><label for=\"sk-estimator-id-673\" class=\"sk-toggleable__label  sk-toggleable__label-arrow \">passthrough</label><div class=\"sk-toggleable__content \"><pre>passthrough</pre></div> </div></div></div></div></div></div></div><div class=\"sk-item\"><div class=\"sk-estimator  sk-toggleable\"><input class=\"sk-toggleable__control sk-hidden--visually\" id=\"sk-estimator-id-674\" type=\"checkbox\" ><label for=\"sk-estimator-id-674\" class=\"sk-toggleable__label  sk-toggleable__label-arrow \">&nbsp;MaxAbsScaler<a class=\"sk-estimator-doc-link \" rel=\"noreferrer\" target=\"_blank\" href=\"https://scikit-learn.org/1.5/modules/generated/sklearn.preprocessing.MaxAbsScaler.html\">?<span>Documentation for MaxAbsScaler</span></a></label><div class=\"sk-toggleable__content \"><pre>MaxAbsScaler()</pre></div> </div></div></div></div></div></div></div><div class=\"sk-parallel-item\"><div class=\"sk-item\"><div class=\"sk-label-container\"><div class=\"sk-label  sk-toggleable\"><input class=\"sk-toggleable__control sk-hidden--visually\" id=\"sk-estimator-id-675\" type=\"checkbox\" ><label for=\"sk-estimator-id-675\" class=\"sk-toggleable__label  sk-toggleable__label-arrow \">remainder</label><div class=\"sk-toggleable__content \"><pre></pre></div> </div></div><div class=\"sk-serial\"><div class=\"sk-item\"><div class=\"sk-estimator  sk-toggleable\"><input class=\"sk-toggleable__control sk-hidden--visually\" id=\"sk-estimator-id-676\" type=\"checkbox\" ><label for=\"sk-estimator-id-676\" class=\"sk-toggleable__label  sk-toggleable__label-arrow \">passthrough</label><div class=\"sk-toggleable__content \"><pre>passthrough</pre></div> </div></div></div></div></div></div></div></div></div></div><div class=\"sk-parallel-item\"><div class=\"sk-item\"><div class=\"sk-label-container\"><div class=\"sk-label  sk-toggleable\"><input class=\"sk-toggleable__control sk-hidden--visually\" id=\"sk-estimator-id-677\" type=\"checkbox\" ><label for=\"sk-estimator-id-677\" class=\"sk-toggleable__label  sk-toggleable__label-arrow \">user_id_pass</label><div class=\"sk-toggleable__content \"><pre>user_id</pre></div> </div></div><div class=\"sk-serial\"><div class=\"sk-item\"><div class=\"sk-estimator  sk-toggleable\"><input class=\"sk-toggleable__control sk-hidden--visually\" id=\"sk-estimator-id-678\" type=\"checkbox\" ><label for=\"sk-estimator-id-678\" class=\"sk-toggleable__label  sk-toggleable__label-arrow \">&nbsp;FunctionTransformer<a class=\"sk-estimator-doc-link \" rel=\"noreferrer\" target=\"_blank\" href=\"https://scikit-learn.org/1.5/modules/generated/sklearn.preprocessing.FunctionTransformer.html\">?<span>Documentation for FunctionTransformer</span></a></label><div class=\"sk-toggleable__content \"><pre>FunctionTransformer(func=&lt;function &lt;lambda&gt; at 0x79d9f4103250&gt;)</pre></div> </div></div></div></div></div><div class=\"sk-parallel-item\"><div class=\"sk-item\"><div class=\"sk-label-container\"><div class=\"sk-label  sk-toggleable\"><input class=\"sk-toggleable__control sk-hidden--visually\" id=\"sk-estimator-id-679\" type=\"checkbox\" ><label for=\"sk-estimator-id-679\" class=\"sk-toggleable__label  sk-toggleable__label-arrow \">minmaxscaler</label><div class=\"sk-toggleable__content \"><pre>[&#x27;user_avg_hrs_played&#x27;]</pre></div> </div></div><div class=\"sk-serial\"><div class=\"sk-item\"><div class=\"sk-estimator  sk-toggleable\"><input class=\"sk-toggleable__control sk-hidden--visually\" id=\"sk-estimator-id-680\" type=\"checkbox\" ><label for=\"sk-estimator-id-680\" class=\"sk-toggleable__label  sk-toggleable__label-arrow \">&nbsp;MaxAbsScaler<a class=\"sk-estimator-doc-link \" rel=\"noreferrer\" target=\"_blank\" href=\"https://scikit-learn.org/1.5/modules/generated/sklearn.preprocessing.MaxAbsScaler.html\">?<span>Documentation for MaxAbsScaler</span></a></label><div class=\"sk-toggleable__content \"><pre>MaxAbsScaler()</pre></div> </div></div></div></div></div><div class=\"sk-parallel-item\"><div class=\"sk-item\"><div class=\"sk-label-container\"><div class=\"sk-label  sk-toggleable\"><input class=\"sk-toggleable__control sk-hidden--visually\" id=\"sk-estimator-id-681\" type=\"checkbox\" ><label for=\"sk-estimator-id-681\" class=\"sk-toggleable__label  sk-toggleable__label-arrow \">target_transformer</label><div class=\"sk-toggleable__content \"><pre>recommendation</pre></div> </div></div><div class=\"sk-serial\"><div class=\"sk-item\"><div class=\"sk-estimator  sk-toggleable\"><input class=\"sk-toggleable__control sk-hidden--visually\" id=\"sk-estimator-id-682\" type=\"checkbox\" ><label for=\"sk-estimator-id-682\" class=\"sk-toggleable__label  sk-toggleable__label-arrow \">&nbsp;FunctionTransformer<a class=\"sk-estimator-doc-link \" rel=\"noreferrer\" target=\"_blank\" href=\"https://scikit-learn.org/1.5/modules/generated/sklearn.preprocessing.FunctionTransformer.html\">?<span>Documentation for FunctionTransformer</span></a></label><div class=\"sk-toggleable__content \"><pre>FunctionTransformer(func=&lt;function &lt;lambda&gt; at 0x79d9f4102200&gt;)</pre></div> </div></div></div></div></div></div></div></div></div>"
      ]
     },
     "execution_count": 138,
     "metadata": {},
     "output_type": "execute_result"
    }
   ],
   "execution_count": 138
  },
  {
   "metadata": {},
   "cell_type": "code",
   "outputs": [],
   "execution_count": null,
   "source": "",
   "id": "ef0e7c66ecb8e5d1"
  },
  {
   "metadata": {
    "ExecuteTime": {
     "end_time": "2024-09-28T07:26:18.953464Z",
     "start_time": "2024-09-28T07:26:18.950534Z"
    }
   },
   "cell_type": "code",
   "source": [
    "def read_data(filename)->pd.DataFrame:\n",
    "    path=os.path.join(\"..\",\"data\",filename)\n",
    "    return pd.read_csv(path)"
   ],
   "id": "12a25f2043a0618c",
   "outputs": [],
   "execution_count": 15
  },
  {
   "metadata": {},
   "cell_type": "markdown",
   "source": "# train dataset transform",
   "id": "dd64ff3f166fd41"
  },
  {
   "metadata": {
    "ExecuteTime": {
     "end_time": "2024-09-28T10:49:39.128808Z",
     "start_time": "2024-09-28T10:49:28.985363Z"
    }
   },
   "cell_type": "code",
   "source": [
    "column_transformer.fit_transform(train[[\"genres\",\"release_year\",\"number_of_reviews_from_purchased_people\",\"game_avg_hrs_played\",\"overall_player_rating\",\"game_id\",\n",
    "                                        \"user_avg_hrs_played\",\"user_id\",\"recommendation\"\n",
    "                                        ]])"
   ],
   "id": "e3275e591fc8c18",
   "outputs": [
    {
     "data": {
      "text/plain": [
       "<Compressed Sparse Row sparse matrix of dtype 'float64'\n",
       "\twith 20916967 stored elements and shape (724955, 361)>"
      ]
     },
     "execution_count": 139,
     "metadata": {},
     "output_type": "execute_result"
    }
   ],
   "execution_count": 139
  }
 ],
 "metadata": {
  "kernelspec": {
   "display_name": "Python 3",
   "language": "python",
   "name": "python3"
  },
  "language_info": {
   "codemirror_mode": {
    "name": "ipython",
    "version": 2
   },
   "file_extension": ".py",
   "mimetype": "text/x-python",
   "name": "python",
   "nbconvert_exporter": "python",
   "pygments_lexer": "ipython2",
   "version": "2.7.6"
  }
 },
 "nbformat": 4,
 "nbformat_minor": 5
}
