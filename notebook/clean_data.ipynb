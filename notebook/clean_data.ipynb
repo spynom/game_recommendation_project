{
 "cells": [
  {
   "metadata": {},
   "cell_type": "markdown",
   "source": "# Importing Libraries",
   "id": "47b054433b04a465"
  },
  {
   "cell_type": "code",
   "id": "initial_id",
   "metadata": {
    "collapsed": true,
    "ExecuteTime": {
     "end_time": "2024-09-27T07:58:11.678086Z",
     "start_time": "2024-09-27T07:58:11.675161Z"
    }
   },
   "source": [
    "import pandas as pd\n",
    "import numpy as np\n",
    "import os"
   ],
   "outputs": [],
   "execution_count": 1
  },
  {
   "metadata": {},
   "cell_type": "markdown",
   "source": "# Data reading",
   "id": "5f70f8db91356a17"
  },
  {
   "metadata": {
    "ExecuteTime": {
     "end_time": "2024-09-27T07:58:11.688444Z",
     "start_time": "2024-09-27T07:58:11.682785Z"
    }
   },
   "cell_type": "code",
   "source": [
    "def read_data(file_name:str,low_memory=True)->pd.DataFrame:\n",
    "    path = os.path.join(\"..\",\"data\",file_name)\n",
    "    return pd.read_csv(path,low_memory=low_memory)"
   ],
   "id": "443b0dd6c4ded64d",
   "outputs": [],
   "execution_count": 2
  },
  {
   "metadata": {
    "ExecuteTime": {
     "end_time": "2024-09-27T07:58:11.854787Z",
     "start_time": "2024-09-27T07:58:11.823623Z"
    }
   },
   "cell_type": "code",
   "source": [
    "games_description=read_data(\"games_description.csv\")\n",
    "games_description.head()"
   ],
   "id": "1da0adf9199a756d",
   "outputs": [
    {
     "data": {
      "text/plain": [
       "                               name  \\\n",
       "0                Black Myth: Wukong   \n",
       "1                  Counter-Strike 2   \n",
       "2  Warhammer 40,000: Space Marine 2   \n",
       "3                    Cyberpunk 2077   \n",
       "4                        ELDEN RING   \n",
       "\n",
       "                                   short_description  \\\n",
       "0  Black Myth: Wukong is an action RPG rooted in ...   \n",
       "1  For over two decades, Counter-Strike has offer...   \n",
       "2  Embody the superhuman skill and brutality of a...   \n",
       "3  Cyberpunk 2077 is an open-world, action-advent...   \n",
       "4  THE CRITICALLY ACCLAIMED FANTASY ACTION RPG. R...   \n",
       "\n",
       "                                    long_description  \\\n",
       "0  About This Game\\n\\t\\t\\t\\t\\t\\t\\tBlack Myth: Wuk...   \n",
       "1  About This Game\\n\\t\\t\\t\\t\\t\\t\\tFor over two de...   \n",
       "2  About This Game\\nEmbody the superhuman skill a...   \n",
       "3  About This Game\\nCyberpunk 2077 is an open-wor...   \n",
       "4  About This Game\\nTHE CRITICALLY ACCLAIMED FANT...   \n",
       "\n",
       "                                              genres  \\\n",
       "0  ['Mythology', 'Action RPG', 'Action', 'RPG', '...   \n",
       "1  ['FPS', 'Shooter', 'Multiplayer', 'Competitive...   \n",
       "2  ['Warhammer 40K', 'Action', 'Third-Person Shoo...   \n",
       "3  ['Cyberpunk', 'Open World', 'Nudity', 'RPG', '...   \n",
       "4  ['Souls-like', 'Dark Fantasy', 'Open World', '...   \n",
       "\n",
       "                          minimum_system_requirement  \\\n",
       "0  ['Requires a 64-bit processor and operating sy...   \n",
       "1  ['OS: Windows® 10', 'Processor: 4 hardware CPU...   \n",
       "2  ['Requires a 64-bit processor and operating sy...   \n",
       "3  ['Requires a 64-bit processor and operating sy...   \n",
       "4  ['Requires a 64-bit processor and operating sy...   \n",
       "\n",
       "                        recommend_system_requirement  release_date  \\\n",
       "0  ['Requires a 64-bit processor and operating sy...  19 Aug, 2024   \n",
       "1  ['OS: Windows® 10', 'Processor: 4 hardware CPU...  21 Aug, 2012   \n",
       "2  ['Requires a 64-bit processor and operating sy...   9 Sep, 2024   \n",
       "3  ['Requires a 64-bit processor and operating sy...  10 Dec, 2020   \n",
       "4  ['Requires a 64-bit processor and operating sy...  25 Feb, 2022   \n",
       "\n",
       "                developer                                          publisher  \\\n",
       "0        ['Game Science']                                   ['Game Science']   \n",
       "1               ['Valve']                                          ['Valve']   \n",
       "2   ['Saber Interactive']                            ['Focus Entertainment']   \n",
       "3      ['CD PROJEKT RED']                                 ['CD PROJEKT RED']   \n",
       "4  ['FromSoftware, Inc.']  ['FromSoftware, Inc.', 'Bandai Namco Entertain...   \n",
       "\n",
       "     overall_player_rating number_of_reviews_from_purchased_people  \\\n",
       "0  Overwhelmingly Positive                               (654,820)   \n",
       "1            Very Positive                             (8,313,603)   \n",
       "2            Very Positive                (81% of 62,791) All Time   \n",
       "3            Very Positive                               (680,264)   \n",
       "4            Very Positive                               (705,261)   \n",
       "\n",
       "  number_of_english_reviews                                               link  \n",
       "0                    51,931  https://store.steampowered.com/app/2358720/Bla...  \n",
       "1                 2,258,990  https://store.steampowered.com/app/730/Counter...  \n",
       "2                    51,920  https://store.steampowered.com/app/2183900/War...  \n",
       "3                   324,124  https://store.steampowered.com/app/1091500/Cyb...  \n",
       "4                   491,741  https://store.steampowered.com/app/1245620/ELD...  "
      ],
      "text/html": [
       "<div>\n",
       "<style scoped>\n",
       "    .dataframe tbody tr th:only-of-type {\n",
       "        vertical-align: middle;\n",
       "    }\n",
       "\n",
       "    .dataframe tbody tr th {\n",
       "        vertical-align: top;\n",
       "    }\n",
       "\n",
       "    .dataframe thead th {\n",
       "        text-align: right;\n",
       "    }\n",
       "</style>\n",
       "<table border=\"1\" class=\"dataframe\">\n",
       "  <thead>\n",
       "    <tr style=\"text-align: right;\">\n",
       "      <th></th>\n",
       "      <th>name</th>\n",
       "      <th>short_description</th>\n",
       "      <th>long_description</th>\n",
       "      <th>genres</th>\n",
       "      <th>minimum_system_requirement</th>\n",
       "      <th>recommend_system_requirement</th>\n",
       "      <th>release_date</th>\n",
       "      <th>developer</th>\n",
       "      <th>publisher</th>\n",
       "      <th>overall_player_rating</th>\n",
       "      <th>number_of_reviews_from_purchased_people</th>\n",
       "      <th>number_of_english_reviews</th>\n",
       "      <th>link</th>\n",
       "    </tr>\n",
       "  </thead>\n",
       "  <tbody>\n",
       "    <tr>\n",
       "      <th>0</th>\n",
       "      <td>Black Myth: Wukong</td>\n",
       "      <td>Black Myth: Wukong is an action RPG rooted in ...</td>\n",
       "      <td>About This Game\\n\\t\\t\\t\\t\\t\\t\\tBlack Myth: Wuk...</td>\n",
       "      <td>['Mythology', 'Action RPG', 'Action', 'RPG', '...</td>\n",
       "      <td>['Requires a 64-bit processor and operating sy...</td>\n",
       "      <td>['Requires a 64-bit processor and operating sy...</td>\n",
       "      <td>19 Aug, 2024</td>\n",
       "      <td>['Game Science']</td>\n",
       "      <td>['Game Science']</td>\n",
       "      <td>Overwhelmingly Positive</td>\n",
       "      <td>(654,820)</td>\n",
       "      <td>51,931</td>\n",
       "      <td>https://store.steampowered.com/app/2358720/Bla...</td>\n",
       "    </tr>\n",
       "    <tr>\n",
       "      <th>1</th>\n",
       "      <td>Counter-Strike 2</td>\n",
       "      <td>For over two decades, Counter-Strike has offer...</td>\n",
       "      <td>About This Game\\n\\t\\t\\t\\t\\t\\t\\tFor over two de...</td>\n",
       "      <td>['FPS', 'Shooter', 'Multiplayer', 'Competitive...</td>\n",
       "      <td>['OS: Windows® 10', 'Processor: 4 hardware CPU...</td>\n",
       "      <td>['OS: Windows® 10', 'Processor: 4 hardware CPU...</td>\n",
       "      <td>21 Aug, 2012</td>\n",
       "      <td>['Valve']</td>\n",
       "      <td>['Valve']</td>\n",
       "      <td>Very Positive</td>\n",
       "      <td>(8,313,603)</td>\n",
       "      <td>2,258,990</td>\n",
       "      <td>https://store.steampowered.com/app/730/Counter...</td>\n",
       "    </tr>\n",
       "    <tr>\n",
       "      <th>2</th>\n",
       "      <td>Warhammer 40,000: Space Marine 2</td>\n",
       "      <td>Embody the superhuman skill and brutality of a...</td>\n",
       "      <td>About This Game\\nEmbody the superhuman skill a...</td>\n",
       "      <td>['Warhammer 40K', 'Action', 'Third-Person Shoo...</td>\n",
       "      <td>['Requires a 64-bit processor and operating sy...</td>\n",
       "      <td>['Requires a 64-bit processor and operating sy...</td>\n",
       "      <td>9 Sep, 2024</td>\n",
       "      <td>['Saber Interactive']</td>\n",
       "      <td>['Focus Entertainment']</td>\n",
       "      <td>Very Positive</td>\n",
       "      <td>(81% of 62,791) All Time</td>\n",
       "      <td>51,920</td>\n",
       "      <td>https://store.steampowered.com/app/2183900/War...</td>\n",
       "    </tr>\n",
       "    <tr>\n",
       "      <th>3</th>\n",
       "      <td>Cyberpunk 2077</td>\n",
       "      <td>Cyberpunk 2077 is an open-world, action-advent...</td>\n",
       "      <td>About This Game\\nCyberpunk 2077 is an open-wor...</td>\n",
       "      <td>['Cyberpunk', 'Open World', 'Nudity', 'RPG', '...</td>\n",
       "      <td>['Requires a 64-bit processor and operating sy...</td>\n",
       "      <td>['Requires a 64-bit processor and operating sy...</td>\n",
       "      <td>10 Dec, 2020</td>\n",
       "      <td>['CD PROJEKT RED']</td>\n",
       "      <td>['CD PROJEKT RED']</td>\n",
       "      <td>Very Positive</td>\n",
       "      <td>(680,264)</td>\n",
       "      <td>324,124</td>\n",
       "      <td>https://store.steampowered.com/app/1091500/Cyb...</td>\n",
       "    </tr>\n",
       "    <tr>\n",
       "      <th>4</th>\n",
       "      <td>ELDEN RING</td>\n",
       "      <td>THE CRITICALLY ACCLAIMED FANTASY ACTION RPG. R...</td>\n",
       "      <td>About This Game\\nTHE CRITICALLY ACCLAIMED FANT...</td>\n",
       "      <td>['Souls-like', 'Dark Fantasy', 'Open World', '...</td>\n",
       "      <td>['Requires a 64-bit processor and operating sy...</td>\n",
       "      <td>['Requires a 64-bit processor and operating sy...</td>\n",
       "      <td>25 Feb, 2022</td>\n",
       "      <td>['FromSoftware, Inc.']</td>\n",
       "      <td>['FromSoftware, Inc.', 'Bandai Namco Entertain...</td>\n",
       "      <td>Very Positive</td>\n",
       "      <td>(705,261)</td>\n",
       "      <td>491,741</td>\n",
       "      <td>https://store.steampowered.com/app/1245620/ELD...</td>\n",
       "    </tr>\n",
       "  </tbody>\n",
       "</table>\n",
       "</div>"
      ]
     },
     "execution_count": 3,
     "metadata": {},
     "output_type": "execute_result"
    }
   ],
   "execution_count": 3
  },
  {
   "metadata": {
    "ExecuteTime": {
     "end_time": "2024-09-27T07:58:18.339197Z",
     "start_time": "2024-09-27T07:58:11.918482Z"
    }
   },
   "cell_type": "code",
   "source": [
    "steam_game_reviews=read_data(\"steam_game_reviews.csv\",low_memory=False)\n",
    "steam_game_reviews.head()"
   ],
   "id": "aeabcd4ad9167fc4",
   "outputs": [
    {
     "data": {
      "text/plain": [
       "                                              review hours_played helpful  \\\n",
       "0  The game itself is also super fun. The PvP and...         39.9   1,152   \n",
       "1  Never cared much about Warhammer until this ga...         91.5     712   \n",
       "2  A salute to all the fallen battle brothers who...         43.3     492   \n",
       "3  this game feels like it was made in the mid 20...         16.8     661   \n",
       "4  Reminds me of something I've lost. A genuine g...         24.0     557   \n",
       "\n",
       "  funny recommendation          date                         game_name  \\\n",
       "0    13    Recommended  14 September  Warhammer 40,000: Space Marine 2   \n",
       "1   116    Recommended  13 September  Warhammer 40,000: Space Marine 2   \n",
       "2    33    Recommended  14 September  Warhammer 40,000: Space Marine 2   \n",
       "3    15    Recommended  14 September  Warhammer 40,000: Space Marine 2   \n",
       "4     4    Recommended  12 September  Warhammer 40,000: Space Marine 2   \n",
       "\n",
       "                             username  \n",
       "0  Sentinowl\\n224 products in account  \n",
       "1    userpig\\n248 products in account  \n",
       "2  Imparat0r\\n112 products in account  \n",
       "3                      Fattest_falcon  \n",
       "4        Jek\\n410 products in account  "
      ],
      "text/html": [
       "<div>\n",
       "<style scoped>\n",
       "    .dataframe tbody tr th:only-of-type {\n",
       "        vertical-align: middle;\n",
       "    }\n",
       "\n",
       "    .dataframe tbody tr th {\n",
       "        vertical-align: top;\n",
       "    }\n",
       "\n",
       "    .dataframe thead th {\n",
       "        text-align: right;\n",
       "    }\n",
       "</style>\n",
       "<table border=\"1\" class=\"dataframe\">\n",
       "  <thead>\n",
       "    <tr style=\"text-align: right;\">\n",
       "      <th></th>\n",
       "      <th>review</th>\n",
       "      <th>hours_played</th>\n",
       "      <th>helpful</th>\n",
       "      <th>funny</th>\n",
       "      <th>recommendation</th>\n",
       "      <th>date</th>\n",
       "      <th>game_name</th>\n",
       "      <th>username</th>\n",
       "    </tr>\n",
       "  </thead>\n",
       "  <tbody>\n",
       "    <tr>\n",
       "      <th>0</th>\n",
       "      <td>The game itself is also super fun. The PvP and...</td>\n",
       "      <td>39.9</td>\n",
       "      <td>1,152</td>\n",
       "      <td>13</td>\n",
       "      <td>Recommended</td>\n",
       "      <td>14 September</td>\n",
       "      <td>Warhammer 40,000: Space Marine 2</td>\n",
       "      <td>Sentinowl\\n224 products in account</td>\n",
       "    </tr>\n",
       "    <tr>\n",
       "      <th>1</th>\n",
       "      <td>Never cared much about Warhammer until this ga...</td>\n",
       "      <td>91.5</td>\n",
       "      <td>712</td>\n",
       "      <td>116</td>\n",
       "      <td>Recommended</td>\n",
       "      <td>13 September</td>\n",
       "      <td>Warhammer 40,000: Space Marine 2</td>\n",
       "      <td>userpig\\n248 products in account</td>\n",
       "    </tr>\n",
       "    <tr>\n",
       "      <th>2</th>\n",
       "      <td>A salute to all the fallen battle brothers who...</td>\n",
       "      <td>43.3</td>\n",
       "      <td>492</td>\n",
       "      <td>33</td>\n",
       "      <td>Recommended</td>\n",
       "      <td>14 September</td>\n",
       "      <td>Warhammer 40,000: Space Marine 2</td>\n",
       "      <td>Imparat0r\\n112 products in account</td>\n",
       "    </tr>\n",
       "    <tr>\n",
       "      <th>3</th>\n",
       "      <td>this game feels like it was made in the mid 20...</td>\n",
       "      <td>16.8</td>\n",
       "      <td>661</td>\n",
       "      <td>15</td>\n",
       "      <td>Recommended</td>\n",
       "      <td>14 September</td>\n",
       "      <td>Warhammer 40,000: Space Marine 2</td>\n",
       "      <td>Fattest_falcon</td>\n",
       "    </tr>\n",
       "    <tr>\n",
       "      <th>4</th>\n",
       "      <td>Reminds me of something I've lost. A genuine g...</td>\n",
       "      <td>24.0</td>\n",
       "      <td>557</td>\n",
       "      <td>4</td>\n",
       "      <td>Recommended</td>\n",
       "      <td>12 September</td>\n",
       "      <td>Warhammer 40,000: Space Marine 2</td>\n",
       "      <td>Jek\\n410 products in account</td>\n",
       "    </tr>\n",
       "  </tbody>\n",
       "</table>\n",
       "</div>"
      ]
     },
     "execution_count": 4,
     "metadata": {},
     "output_type": "execute_result"
    }
   ],
   "execution_count": 4
  },
  {
   "metadata": {},
   "cell_type": "markdown",
   "source": "# Preliminary Analysis",
   "id": "9bf4738a180c1fd7"
  },
  {
   "metadata": {},
   "cell_type": "markdown",
   "source": "## Games Description",
   "id": "1cd9d75066556b74"
  },
  {
   "metadata": {
    "ExecuteTime": {
     "end_time": "2024-09-27T07:58:18.451990Z",
     "start_time": "2024-09-27T07:58:18.447670Z"
    }
   },
   "cell_type": "code",
   "source": "games_description.shape",
   "id": "8993857af59e9bbb",
   "outputs": [
    {
     "data": {
      "text/plain": [
       "(290, 13)"
      ]
     },
     "execution_count": 5,
     "metadata": {},
     "output_type": "execute_result"
    }
   ],
   "execution_count": 5
  },
  {
   "metadata": {
    "ExecuteTime": {
     "end_time": "2024-09-27T07:58:18.731695Z",
     "start_time": "2024-09-27T07:58:18.726457Z"
    }
   },
   "cell_type": "code",
   "source": "games_description.columns",
   "id": "2ffeba57fcb06a72",
   "outputs": [
    {
     "data": {
      "text/plain": [
       "Index(['name', 'short_description', 'long_description', 'genres',\n",
       "       'minimum_system_requirement', 'recommend_system_requirement',\n",
       "       'release_date', 'developer', 'publisher', 'overall_player_rating',\n",
       "       'number_of_reviews_from_purchased_people', 'number_of_english_reviews',\n",
       "       'link'],\n",
       "      dtype='object')"
      ]
     },
     "execution_count": 6,
     "metadata": {},
     "output_type": "execute_result"
    }
   ],
   "execution_count": 6
  },
  {
   "metadata": {
    "ExecuteTime": {
     "end_time": "2024-09-27T07:58:18.919834Z",
     "start_time": "2024-09-27T07:58:18.917499Z"
    }
   },
   "cell_type": "code",
   "source": "",
   "id": "4c005a42042b698e",
   "outputs": [],
   "execution_count": null
  },
  {
   "metadata": {
    "ExecuteTime": {
     "end_time": "2024-09-27T07:58:19.243730Z",
     "start_time": "2024-09-27T07:58:19.209619Z"
    }
   },
   "cell_type": "code",
   "source": "games_description.select_dtypes(\"object\").describe()",
   "id": "98876f6bccdcbe4c",
   "outputs": [
    {
     "data": {
      "text/plain": [
       "                      name                                  short_description  \\\n",
       "count                  290                                                277   \n",
       "unique                 290                                                277   \n",
       "top     Black Myth: Wukong  Black Myth: Wukong is an action RPG rooted in ...   \n",
       "freq                     1                                                  1   \n",
       "\n",
       "                                         long_description  \\\n",
       "count                                                 290   \n",
       "unique                                                290   \n",
       "top     About This Game\\n\\t\\t\\t\\t\\t\\t\\tBlack Myth: Wuk...   \n",
       "freq                                                    1   \n",
       "\n",
       "                                                   genres  \\\n",
       "count                                                 290   \n",
       "unique                                                288   \n",
       "top     ['Simulation', 'Sports', 'Casual', 'VR', 'Acti...   \n",
       "freq                                                    2   \n",
       "\n",
       "                               minimum_system_requirement  \\\n",
       "count                                                 290   \n",
       "unique                                                279   \n",
       "top     ['Requires a 64-bit processor and operating sy...   \n",
       "freq                                                    4   \n",
       "\n",
       "                             recommend_system_requirement  release_date  \\\n",
       "count                                                 290           290   \n",
       "unique                                                265           271   \n",
       "top     ['Requires a 64-bit processor and operating sy...  10 Sep, 2024   \n",
       "freq                                                   14             3   \n",
       "\n",
       "                   developer            publisher overall_player_rating  \\\n",
       "count                    290                  290                   290   \n",
       "unique                   216                  173                    11   \n",
       "top     ['Milestone S.r.l.']  ['Electronic Arts']         Very Positive   \n",
       "freq                      10                   15                   146   \n",
       "\n",
       "       number_of_reviews_from_purchased_people number_of_english_reviews  \\\n",
       "count                                      290                       290   \n",
       "unique                                     287                       289   \n",
       "top                                () All Time                         2   \n",
       "freq                                         4                         2   \n",
       "\n",
       "                                                     link  \n",
       "count                                                 290  \n",
       "unique                                                290  \n",
       "top     https://store.steampowered.com/app/2358720/Bla...  \n",
       "freq                                                    1  "
      ],
      "text/html": [
       "<div>\n",
       "<style scoped>\n",
       "    .dataframe tbody tr th:only-of-type {\n",
       "        vertical-align: middle;\n",
       "    }\n",
       "\n",
       "    .dataframe tbody tr th {\n",
       "        vertical-align: top;\n",
       "    }\n",
       "\n",
       "    .dataframe thead th {\n",
       "        text-align: right;\n",
       "    }\n",
       "</style>\n",
       "<table border=\"1\" class=\"dataframe\">\n",
       "  <thead>\n",
       "    <tr style=\"text-align: right;\">\n",
       "      <th></th>\n",
       "      <th>name</th>\n",
       "      <th>short_description</th>\n",
       "      <th>long_description</th>\n",
       "      <th>genres</th>\n",
       "      <th>minimum_system_requirement</th>\n",
       "      <th>recommend_system_requirement</th>\n",
       "      <th>release_date</th>\n",
       "      <th>developer</th>\n",
       "      <th>publisher</th>\n",
       "      <th>overall_player_rating</th>\n",
       "      <th>number_of_reviews_from_purchased_people</th>\n",
       "      <th>number_of_english_reviews</th>\n",
       "      <th>link</th>\n",
       "    </tr>\n",
       "  </thead>\n",
       "  <tbody>\n",
       "    <tr>\n",
       "      <th>count</th>\n",
       "      <td>290</td>\n",
       "      <td>277</td>\n",
       "      <td>290</td>\n",
       "      <td>290</td>\n",
       "      <td>290</td>\n",
       "      <td>290</td>\n",
       "      <td>290</td>\n",
       "      <td>290</td>\n",
       "      <td>290</td>\n",
       "      <td>290</td>\n",
       "      <td>290</td>\n",
       "      <td>290</td>\n",
       "      <td>290</td>\n",
       "    </tr>\n",
       "    <tr>\n",
       "      <th>unique</th>\n",
       "      <td>290</td>\n",
       "      <td>277</td>\n",
       "      <td>290</td>\n",
       "      <td>288</td>\n",
       "      <td>279</td>\n",
       "      <td>265</td>\n",
       "      <td>271</td>\n",
       "      <td>216</td>\n",
       "      <td>173</td>\n",
       "      <td>11</td>\n",
       "      <td>287</td>\n",
       "      <td>289</td>\n",
       "      <td>290</td>\n",
       "    </tr>\n",
       "    <tr>\n",
       "      <th>top</th>\n",
       "      <td>Black Myth: Wukong</td>\n",
       "      <td>Black Myth: Wukong is an action RPG rooted in ...</td>\n",
       "      <td>About This Game\\n\\t\\t\\t\\t\\t\\t\\tBlack Myth: Wuk...</td>\n",
       "      <td>['Simulation', 'Sports', 'Casual', 'VR', 'Acti...</td>\n",
       "      <td>['Requires a 64-bit processor and operating sy...</td>\n",
       "      <td>['Requires a 64-bit processor and operating sy...</td>\n",
       "      <td>10 Sep, 2024</td>\n",
       "      <td>['Milestone S.r.l.']</td>\n",
       "      <td>['Electronic Arts']</td>\n",
       "      <td>Very Positive</td>\n",
       "      <td>() All Time</td>\n",
       "      <td>2</td>\n",
       "      <td>https://store.steampowered.com/app/2358720/Bla...</td>\n",
       "    </tr>\n",
       "    <tr>\n",
       "      <th>freq</th>\n",
       "      <td>1</td>\n",
       "      <td>1</td>\n",
       "      <td>1</td>\n",
       "      <td>2</td>\n",
       "      <td>4</td>\n",
       "      <td>14</td>\n",
       "      <td>3</td>\n",
       "      <td>10</td>\n",
       "      <td>15</td>\n",
       "      <td>146</td>\n",
       "      <td>4</td>\n",
       "      <td>2</td>\n",
       "      <td>1</td>\n",
       "    </tr>\n",
       "  </tbody>\n",
       "</table>\n",
       "</div>"
      ]
     },
     "execution_count": 7,
     "metadata": {},
     "output_type": "execute_result"
    }
   ],
   "execution_count": 7
  },
  {
   "metadata": {
    "ExecuteTime": {
     "end_time": "2024-09-27T07:58:19.375963Z",
     "start_time": "2024-09-27T07:58:19.369395Z"
    }
   },
   "cell_type": "code",
   "source": "games_description.isnull().sum()",
   "id": "b91a4dbbe6cdcfed",
   "outputs": [
    {
     "data": {
      "text/plain": [
       "name                                        0\n",
       "short_description                          13\n",
       "long_description                            0\n",
       "genres                                      0\n",
       "minimum_system_requirement                  0\n",
       "recommend_system_requirement                0\n",
       "release_date                                0\n",
       "developer                                   0\n",
       "publisher                                   0\n",
       "overall_player_rating                       0\n",
       "number_of_reviews_from_purchased_people     0\n",
       "number_of_english_reviews                   0\n",
       "link                                        0\n",
       "dtype: int64"
      ]
     },
     "execution_count": 8,
     "metadata": {},
     "output_type": "execute_result"
    }
   ],
   "execution_count": 8
  },
  {
   "metadata": {
    "ExecuteTime": {
     "end_time": "2024-09-27T07:58:19.571190Z",
     "start_time": "2024-09-27T07:58:19.563175Z"
    }
   },
   "cell_type": "code",
   "source": "games_description.duplicated().sum()",
   "id": "a89c326caaef8051",
   "outputs": [
    {
     "data": {
      "text/plain": [
       "0"
      ]
     },
     "execution_count": 9,
     "metadata": {},
     "output_type": "execute_result"
    }
   ],
   "execution_count": 9
  },
  {
   "metadata": {},
   "cell_type": "markdown",
   "source": "# steam_game_reviews",
   "id": "79e42e644bffe2a2"
  },
  {
   "metadata": {
    "ExecuteTime": {
     "end_time": "2024-09-27T07:58:19.766651Z",
     "start_time": "2024-09-27T07:58:19.762739Z"
    }
   },
   "cell_type": "code",
   "source": "steam_game_reviews.shape",
   "id": "739e9600dbf0c9c8",
   "outputs": [
    {
     "data": {
      "text/plain": [
       "(992153, 8)"
      ]
     },
     "execution_count": 10,
     "metadata": {},
     "output_type": "execute_result"
    }
   ],
   "execution_count": 10
  },
  {
   "metadata": {
    "ExecuteTime": {
     "end_time": "2024-09-27T07:58:20.089164Z",
     "start_time": "2024-09-27T07:58:20.084758Z"
    }
   },
   "cell_type": "code",
   "source": "steam_game_reviews.columns",
   "id": "a653adaf1125d214",
   "outputs": [
    {
     "data": {
      "text/plain": [
       "Index(['review', 'hours_played', 'helpful', 'funny', 'recommendation', 'date',\n",
       "       'game_name', 'username'],\n",
       "      dtype='object')"
      ]
     },
     "execution_count": 11,
     "metadata": {},
     "output_type": "execute_result"
    }
   ],
   "execution_count": 11
  },
  {
   "metadata": {
    "ExecuteTime": {
     "end_time": "2024-09-27T07:58:20.258712Z",
     "start_time": "2024-09-27T07:58:20.253183Z"
    }
   },
   "cell_type": "code",
   "source": "steam_game_reviews.dtypes",
   "id": "ef7ad685257d1f21",
   "outputs": [
    {
     "data": {
      "text/plain": [
       "review            object\n",
       "hours_played      object\n",
       "helpful           object\n",
       "funny             object\n",
       "recommendation    object\n",
       "date              object\n",
       "game_name         object\n",
       "username          object\n",
       "dtype: object"
      ]
     },
     "execution_count": 12,
     "metadata": {},
     "output_type": "execute_result"
    }
   ],
   "execution_count": 12
  },
  {
   "metadata": {
    "ExecuteTime": {
     "end_time": "2024-09-27T07:58:23.229176Z",
     "start_time": "2024-09-27T07:58:20.432447Z"
    }
   },
   "cell_type": "code",
   "source": "steam_game_reviews.describe()",
   "id": "e1f7f78f2efdfcef",
   "outputs": [
    {
     "data": {
      "text/plain": [
       "        review hours_played helpful   funny recommendation               date  \\\n",
       "count   991650       992153  992153  992153         992153             992153   \n",
       "unique  909736        44229    2641    1733              2               6147   \n",
       "top       good          0.2       1       0    Recommended  November 22, 2023   \n",
       "freq      1111         3305  256331  744249         805782               3048   \n",
       "\n",
       "          game_name username  \n",
       "count        992153   992072  \n",
       "unique          242   765581  \n",
       "top     War Thunder      123  \n",
       "freq           5010      161  "
      ],
      "text/html": [
       "<div>\n",
       "<style scoped>\n",
       "    .dataframe tbody tr th:only-of-type {\n",
       "        vertical-align: middle;\n",
       "    }\n",
       "\n",
       "    .dataframe tbody tr th {\n",
       "        vertical-align: top;\n",
       "    }\n",
       "\n",
       "    .dataframe thead th {\n",
       "        text-align: right;\n",
       "    }\n",
       "</style>\n",
       "<table border=\"1\" class=\"dataframe\">\n",
       "  <thead>\n",
       "    <tr style=\"text-align: right;\">\n",
       "      <th></th>\n",
       "      <th>review</th>\n",
       "      <th>hours_played</th>\n",
       "      <th>helpful</th>\n",
       "      <th>funny</th>\n",
       "      <th>recommendation</th>\n",
       "      <th>date</th>\n",
       "      <th>game_name</th>\n",
       "      <th>username</th>\n",
       "    </tr>\n",
       "  </thead>\n",
       "  <tbody>\n",
       "    <tr>\n",
       "      <th>count</th>\n",
       "      <td>991650</td>\n",
       "      <td>992153</td>\n",
       "      <td>992153</td>\n",
       "      <td>992153</td>\n",
       "      <td>992153</td>\n",
       "      <td>992153</td>\n",
       "      <td>992153</td>\n",
       "      <td>992072</td>\n",
       "    </tr>\n",
       "    <tr>\n",
       "      <th>unique</th>\n",
       "      <td>909736</td>\n",
       "      <td>44229</td>\n",
       "      <td>2641</td>\n",
       "      <td>1733</td>\n",
       "      <td>2</td>\n",
       "      <td>6147</td>\n",
       "      <td>242</td>\n",
       "      <td>765581</td>\n",
       "    </tr>\n",
       "    <tr>\n",
       "      <th>top</th>\n",
       "      <td>good</td>\n",
       "      <td>0.2</td>\n",
       "      <td>1</td>\n",
       "      <td>0</td>\n",
       "      <td>Recommended</td>\n",
       "      <td>November 22, 2023</td>\n",
       "      <td>War Thunder</td>\n",
       "      <td>123</td>\n",
       "    </tr>\n",
       "    <tr>\n",
       "      <th>freq</th>\n",
       "      <td>1111</td>\n",
       "      <td>3305</td>\n",
       "      <td>256331</td>\n",
       "      <td>744249</td>\n",
       "      <td>805782</td>\n",
       "      <td>3048</td>\n",
       "      <td>5010</td>\n",
       "      <td>161</td>\n",
       "    </tr>\n",
       "  </tbody>\n",
       "</table>\n",
       "</div>"
      ]
     },
     "execution_count": 13,
     "metadata": {},
     "output_type": "execute_result"
    }
   ],
   "execution_count": 13
  },
  {
   "metadata": {
    "ExecuteTime": {
     "end_time": "2024-09-27T07:58:23.667734Z",
     "start_time": "2024-09-27T07:58:23.276305Z"
    }
   },
   "cell_type": "code",
   "source": "steam_game_reviews.isnull().sum()",
   "id": "533d55d0acd3967f",
   "outputs": [
    {
     "data": {
      "text/plain": [
       "review            503\n",
       "hours_played        0\n",
       "helpful             0\n",
       "funny               0\n",
       "recommendation      0\n",
       "date                0\n",
       "game_name           0\n",
       "username           81\n",
       "dtype: int64"
      ]
     },
     "execution_count": 14,
     "metadata": {},
     "output_type": "execute_result"
    }
   ],
   "execution_count": 14
  },
  {
   "metadata": {
    "ExecuteTime": {
     "end_time": "2024-09-27T07:58:24.786975Z",
     "start_time": "2024-09-27T07:58:23.821700Z"
    }
   },
   "cell_type": "code",
   "source": "steam_game_reviews.duplicated().sum()",
   "id": "218413f3647523c",
   "outputs": [
    {
     "data": {
      "text/plain": [
       "1"
      ]
     },
     "execution_count": 15,
     "metadata": {},
     "output_type": "execute_result"
    }
   ],
   "execution_count": 15
  },
  {
   "metadata": {},
   "cell_type": "markdown",
   "source": "# Preliminary cleaning",
   "id": "2610224bc31617fc"
  },
  {
   "metadata": {
    "ExecuteTime": {
     "end_time": "2024-09-27T07:58:25.749189Z",
     "start_time": "2024-09-27T07:58:24.867799Z"
    }
   },
   "cell_type": "code",
   "source": "steam_game_reviews.drop_duplicates(inplace=True)",
   "id": "c86b2542be2f34",
   "outputs": [],
   "execution_count": 16
  },
  {
   "metadata": {},
   "cell_type": "markdown",
   "source": "# Detail Analysis",
   "id": "de9c0e7f6c79aa47"
  },
  {
   "metadata": {},
   "cell_type": "markdown",
   "source": "## Games_description",
   "id": "95149b1ab80712e7"
  },
  {
   "metadata": {},
   "cell_type": "markdown",
   "source": "### name",
   "id": "6737e29a3be8cbb6"
  },
  {
   "metadata": {
    "ExecuteTime": {
     "end_time": "2024-09-27T07:58:25.922797Z",
     "start_time": "2024-09-27T07:58:25.919030Z"
    }
   },
   "cell_type": "code",
   "source": "games_description.name.dtypes",
   "id": "5198e2d305806dbc",
   "outputs": [
    {
     "data": {
      "text/plain": [
       "dtype('O')"
      ]
     },
     "execution_count": 17,
     "metadata": {},
     "output_type": "execute_result"
    }
   ],
   "execution_count": 17
  },
  {
   "metadata": {
    "ExecuteTime": {
     "end_time": "2024-09-27T07:58:25.986067Z",
     "start_time": "2024-09-27T07:58:25.981601Z"
    }
   },
   "cell_type": "code",
   "source": "games_description.name.nunique()",
   "id": "6909c936c2774a8b",
   "outputs": [
    {
     "data": {
      "text/plain": [
       "290"
      ]
     },
     "execution_count": 18,
     "metadata": {},
     "output_type": "execute_result"
    }
   ],
   "execution_count": 18
  },
  {
   "metadata": {
    "ExecuteTime": {
     "end_time": "2024-09-27T07:58:26.094203Z",
     "start_time": "2024-09-27T07:58:26.088309Z"
    }
   },
   "cell_type": "code",
   "source": "games_description.name.unique()",
   "id": "9428a963f5ad3ab4",
   "outputs": [
    {
     "data": {
      "text/plain": [
       "array(['Black Myth: Wukong', 'Counter-Strike 2',\n",
       "       'Warhammer 40,000: Space Marine 2', 'Cyberpunk 2077', 'ELDEN RING',\n",
       "       'PUBG: BATTLEGROUNDS', 'Apex Legends™', 'Dota 2', 'Party Animals',\n",
       "       'Total War: WARHAMMER III', 'Cyberpunk 2077: Phantom Liberty',\n",
       "       'Once Human', 'NARAKA: BLADEPOINT', 'Warframe', 'Grounded',\n",
       "       \"Tom Clancy's Rainbow Six® Siege\", 'Grand Theft Auto V',\n",
       "       'Call of Duty®: Black Ops III', 'Like a Dragon: Infinite Wealth',\n",
       "       'Dead by Daylight', 'Call of Duty®', 'Street Fighter™ 6',\n",
       "       'The First Descendant',\n",
       "       'Call of Duty®: Modern Warfare® III - BlackCell (Season 6)',\n",
       "       'The Crew™ 2', 'Battlefield™ V', 'Sea of Thieves: 2024 Edition',\n",
       "       'Halo: The Master Chief Collection',\n",
       "       'Call of Duty®: Modern Warfare® III', 'The Witcher 3: Wild Hunt',\n",
       "       'LOCKDOWN Protocol', 'Call of Duty®: Warzone™', 'Rust', 'Noita',\n",
       "       'Dead Rising Deluxe Remaster', 'ELDEN RING Shadow of the Erdtree',\n",
       "       'Diablo® IV', 'FINAL FANTASY XIV Online', 'Wallpaper Engine',\n",
       "       'Destiny 2', 'Team Fortress 2', 'The Elder Scrolls® Online',\n",
       "       'Red Dead Redemption 2', 'Black Desert',\n",
       "       'Call of Duty®: Black Ops II', 'Risk of Rain 2', 'Terraria',\n",
       "       'Left 4 Dead 2', 'The Forest', 'Among Us', 'Portal 2',\n",
       "       'Sekiro™: Shadows Die Twice - GOTY Edition', 'PAYDAY 2', 'Hades',\n",
       "       'Dying Light', 'Hollow Knight', 'Unturned', 'Deep Rock Galactic',\n",
       "       'Valheim', 'Titanfall® 2', 'Borderlands 2',\n",
       "       'ARK: Survival Evolved', 'Vampire Survivors', 'Devil May Cry 5',\n",
       "       'Monster Hunter: World', 'Half-Life 2', 'Tomb Raider',\n",
       "       'Resident Evil 4', 'Satisfactory', 'Persona 3 Reload',\n",
       "       \"Baldur's Gate 3\", 'Shin Megami Tensei V: Vengeance',\n",
       "       'Microsoft Flight Simulator 40th Anniversary Edition',\n",
       "       \"Dragon's Dogma 2\", 'Lies of P', 'UFO 50',\n",
       "       'FINAL FANTASY VII REMAKE INTERGRADE', 'Gunfire Reborn',\n",
       "       'Core Keeper', 'STAR WARS Jedi: Survivor™',\n",
       "       \"DEATH STRANDING DIRECTOR'S CUT\", 'Palworld',\n",
       "       'Little Nightmares II', 'Little Nightmares', 'Sonic Frontiers',\n",
       "       'Warhammer 40,000: Space Marine 2 - Season Pass',\n",
       "       'Alien: Isolation', 'Lost Judgment', 'Lethal Company',\n",
       "       \"Thank Goodness You're Here!\", 'STAR WARS™ Battlefront™ II',\n",
       "       'Chained Together', 'Forza Horizon 5', 'ARK: Survival Ascended',\n",
       "       'Sons Of The Forest', 'DREDGE', 'Crime Scene Cleaner',\n",
       "       'Subnautica', 'Crusader Kings III', 'Persona 5 Royal',\n",
       "       'Dale & Dawson Stationery Supplies', 'Path of Exile',\n",
       "       'Stardew Valley', 'STAR WARS™: The Old Republic™', 'Fallout 76',\n",
       "       'Project Zomboid', 'Dark and Darker', 'Visions of Mana',\n",
       "       'Limbus Company', 'Divinity: Original Sin 2 - Definitive Edition',\n",
       "       'Fallout: New Vegas', 'Undertale', 'Persona 4 Golden',\n",
       "       'DARK SOULS™ III', 'Hogwarts Legacy', 'OMORI', 'Slay the Spire',\n",
       "       'Symphony of War: The Nephilim Saga', 'God of War', 'Fallout 4',\n",
       "       'TROUBLESHOOTER: Abandoned Children', 'DAVE THE DIVER',\n",
       "       'The Elder Scrolls V: Skyrim Special Edition', 'Yakuza 0',\n",
       "       'Mount & Blade: Warband', 'Mount & Blade II: Bannerlord', 'Kenshi',\n",
       "       'EA SPORTS FC™ 25', 'Frostpunk 2', 'NBA 2K25',\n",
       "       'TCG Card Shop Simulator', 'The Sims™ 4', 'War Thunder',\n",
       "       'Euro Truck Simulator 2', 'Anno 1800', 'American Truck Simulator',\n",
       "       'Yu-Gi-Oh! Master Duel', 'BeamNG.drive', 'eFootball™',\n",
       "       'Two Point Campus', 'Assetto Corsa', 'EA SPORTS™ Madden NFL 25',\n",
       "       'RimWorld', 'theHunter: Call of the Wild™', 'Shawarma Legend',\n",
       "       'Stellaris', 'World of Warships', 'Assetto Corsa Competizione',\n",
       "       'World of Tanks', 'Dyson Sphere Program',\n",
       "       'Jurassic World Evolution 2', 'DCS World Steam Edition',\n",
       "       'American Truck Simulator - Arkansas', 'Train Sim World® 5',\n",
       "       'Crusader Kings III: Tours & Tournaments', 'Cities: Skylines II',\n",
       "       'Fields of Mistria', 'Supermarket Simulator', 'CarX Street',\n",
       "       'Hearts of Iron IV', 'shapez 2', 'Ale & Tale Tavern',\n",
       "       '7 Days to Die', \"Garry's Mod\", 'People Playground',\n",
       "       'Cities: Skylines', 'Totally Accurate Battle Simulator',\n",
       "       'Kerbal Space Program', 'Oxygen Not Included', 'Arma 3',\n",
       "       'Papers, Please', 'Sid Meier’s Civilization® VI', 'Teardown',\n",
       "       'Game Dev Tycoon', 'CarX Drift Racing Online', 'Slime Rancher',\n",
       "       'Car Mechanic Simulator 2021', 'Tabletop Simulator',\n",
       "       'PowerWash Simulator', 'Aimlabs', 'My Summer Car', 'House Flipper',\n",
       "       'Plague Inc: Evolved', 'Age of Mythology: Retold',\n",
       "       'Magic: The Gathering Arena', 'Total War: WARHAMMER II',\n",
       "       'Total War: WARHAMMER',\n",
       "       'Total War: WARHAMMER III - Shadows of Change',\n",
       "       'Total War: THREE KINGDOMS', 'Total War: PHARAOH', 'Inscryption',\n",
       "       'Two Point Hospital', 'Company of Heroes 3',\n",
       "       'Total War: ROME II - Emperor Edition', 'Bloons TD 6',\n",
       "       'Manor Lords', 'Transport Fever 2',\n",
       "       'Warhammer 40,000: Rogue Trader', 'Stolen Realm',\n",
       "       'Sins of a Solar Empire II', 'Summoners War', 'Frostpunk',\n",
       "       'Age of Empires IV: Anniversary Edition', 'Europa Universalis IV',\n",
       "       'Balatro', 'Age of Empires II: Definitive Edition', 'MARVEL SNAP',\n",
       "       'Tactical Breach Wizards',\n",
       "       'Total War: MEDIEVAL II – Definitive Edition',\n",
       "       \"Sid Meier's Civilization® V\", 'Plants vs. Zombies GOTY Edition',\n",
       "       'Age of Empires II (Retired)', 'Ultimate General: Civil War',\n",
       "       'Dune: Imperium', 'STAR WARS™ Empire at War - Gold Pack',\n",
       "       'For The King', 'Armello', 'Stacklands', 'ENDLESS™ Legend',\n",
       "       'Dorfromantik', 'Warhammer 40,000: Gladius - Relics of War',\n",
       "       'Northgard', 'Age of Wonders 4', 'Scythe: Digital Edition',\n",
       "       'The Crew Motorfest', 'Need for Speed™ Heat',\n",
       "       'Need for Speed™ Unbound', 'iRacing', 'WWE 2K24', 'F1® 24',\n",
       "       'Fishing Planet', 'Golf With Your Friends', 'EA SPORTS™ WRC',\n",
       "       \"Tony Hawk's™ Pro Skater™ 1 + 2\", 'Season 1 MyCAREER Bonus Offer',\n",
       "       'Russian Fishing 4', 'Football Manager 2024',\n",
       "       'NBA 2K25 Hall of Fame Pass: Season 1', 'F1® Manager 2024',\n",
       "       'Rooftops & Alleys: The Parkour Game',\n",
       "       'Liftoff®: FPV Drone Racing', 'EA SPORTS FC™ 24', 'Undisputed',\n",
       "       'Need for Speed™ Payback', 'PGA TOUR 2K23', 'DiRT Rally 2.0',\n",
       "       'Assetto Corsa Competizione - 24H Nürburgring Pack',\n",
       "       'Automobilista 2', 'NBA 2K24', 'Steep™', 'Riders Republic',\n",
       "       'Season 1 MyTEAM Bonus Offer', 'All-In-One Sports VR',\n",
       "       'Downhill Pro Racer', 'MX vs ATV Legends',\n",
       "       'All In One Sports - Hockey DLC', 'Slime Volley',\n",
       "       'All In One Sports - Soccer DLC', 'Descenders', 'RIDE 5',\n",
       "       'Golf It!', 'Motordoom', 'Sledders', 'The Ramp',\n",
       "       'Monster Energy Supercross - The Official Videogame',\n",
       "       'Skater XL - The Ultimate Skateboarding Game', 'TrackDayR',\n",
       "       '69 Balls', 'MX vs. ATV Reflex',\n",
       "       'MXGP 2021 - The Official Motocross Videogame',\n",
       "       'Session: Skate Sim', 'MXGP3 - The Official Motocross Videogame',\n",
       "       'MXGP - The Official Motocross Videogame',\n",
       "       'Walkabout Mini Golf VR', 'MX vs ATV All Out', 'Driftwood',\n",
       "       'RIDE 4', 'Gym Simulator 24', 'Wrestling Empire', 'RIDE 3',\n",
       "       'Golf Gang', 'Lonely Mountains: Downhill', 'GP Bikes',\n",
       "       'Golf Peaks', 'PIPE by BMX Streets', 'MXGP PRO',\n",
       "       'MXGP 2019 - The Official Motocross Videogame', 'Ride 2',\n",
       "       'Tanuki Sunset', 'Grand Mountain Adventure: Wonderlands'],\n",
       "      dtype=object)"
      ]
     },
     "execution_count": 19,
     "metadata": {},
     "output_type": "execute_result"
    }
   ],
   "execution_count": 19
  },
  {
   "metadata": {
    "ExecuteTime": {
     "end_time": "2024-09-27T07:58:26.197936Z",
     "start_time": "2024-09-27T07:58:26.195582Z"
    }
   },
   "cell_type": "code",
   "source": "",
   "id": "3026458dc2e21243",
   "outputs": [],
   "execution_count": null
  },
  {
   "metadata": {},
   "cell_type": "markdown",
   "source": "### short_description",
   "id": "a5b1266f0f93e0ae"
  },
  {
   "metadata": {
    "ExecuteTime": {
     "end_time": "2024-09-27T07:58:26.259969Z",
     "start_time": "2024-09-27T07:58:26.256089Z"
    }
   },
   "cell_type": "code",
   "source": "games_description.short_description.isnull().sum()",
   "id": "5cb9037adba5568d",
   "outputs": [
    {
     "data": {
      "text/plain": [
       "13"
      ]
     },
     "execution_count": 20,
     "metadata": {},
     "output_type": "execute_result"
    }
   ],
   "execution_count": 20
  },
  {
   "metadata": {
    "ExecuteTime": {
     "end_time": "2024-09-27T07:58:26.324577Z",
     "start_time": "2024-09-27T07:58:26.319617Z"
    }
   },
   "cell_type": "code",
   "source": "games_description[games_description.short_description.isnull()].link",
   "id": "863845de21418a96",
   "outputs": [
    {
     "data": {
      "text/plain": [
       "10     https://store.steampowered.com/app/2138330/Cyb...\n",
       "23     https://store.steampowered.com/app/2790740/Cal...\n",
       "35     https://store.steampowered.com/app/2778580/ELD...\n",
       "85     https://store.steampowered.com/app/2792280/War...\n",
       "152    https://store.steampowered.com/app/2585150/Ame...\n",
       "154    https://store.steampowered.com/app/2311920/Cru...\n",
       "187    https://store.steampowered.com/app/2325830/Tot...\n",
       "234    https://store.steampowered.com/app/2982780/Sea...\n",
       "237    https://store.steampowered.com/app/2974820/NBA...\n",
       "246    https://store.steampowered.com/app/2700610/Ass...\n",
       "251    https://store.steampowered.com/app/2982790/Sea...\n",
       "255    https://store.steampowered.com/app/3187270/All...\n",
       "257    https://store.steampowered.com/app/3118990/All...\n",
       "Name: link, dtype: object"
      ]
     },
     "execution_count": 21,
     "metadata": {},
     "output_type": "execute_result"
    }
   ],
   "execution_count": 21
  },
  {
   "metadata": {
    "ExecuteTime": {
     "end_time": "2024-09-27T07:58:26.454714Z",
     "start_time": "2024-09-27T07:58:26.448631Z"
    }
   },
   "cell_type": "code",
   "source": [
    "games_description.loc[games_description[games_description.short_description.isnull()].index,\"short_description\"]=[\n",
    "        \"Cyberpunk 2077 contains strong language, intense violence, blood and gore, as well as nudity and sexual material\",\n",
    "        \"This DLC may contain content not appropriate for all ages, or may not be appropriate for viewing at work: Frequent Violence or Gore, General Mature Content \",\n",
    "        \"Shadow of the Erdtree is an expansion to ELDEN RING, the 2022 Game of the Year. Dark and intense, Shadow of the Erdtree has players continue their quest with the freedom to explore and experience the adventure at their own pace.\",\n",
    "        \"Gameplay consists of frequent combat scenarios with characters using their weapons to slash/stab enemies.\",\n",
    "        \"Located in the south-central region of the United States, the state is a nature wonderland with three national forests, many State Parks, nearly 9,000 miles of pristine streams and rivers like the Arkansas and Mississippi, as well as the ever-stretching Ozark and Ouachita mountain ranges.\",\n",
    "        \"Life is a journey of chivalric adventure, so why don’t you embrace yours, ruler? Create your very own epic story with the major expansion, Crusader Kings III: Tours & Tournaments. Be awed by the sights and events that await you, from bold, mock combat in the jousting area to adventuring perilous wilds with your royal entourage.\",\n",
    "        \"The Shadows of Change pack introduces 3 new Legendary Lords for Tzeentch, Grand Cathay, and Kislev, usable in both the Realm of Chaos and Immortal Empires campaigns.\",\n",
    "        \"\",\n",
    "        \"The NBA 2K25 Hall of Fame Pass: Season 1 takes your MyCAREER and MyTEAM experience to the next level. The Season 1 Hall of Fame Pass includes everything in the Pro Season Pass (access to 40 levels of earnable premium rewards, and 4 additional Season Pass Rewards) a 15% XP Booster for the entire season, and 10 Level Skips immediately applied to the Season reward track, & 15,000 VC!\",\n",
    "        \"The most anticipated moment for Assetto Corsa Competizione has finally come. Nürburgring 24 hours is in. Nordschleife is probably the most iconic circuit worldwide. Constantly attracting thousands of professional and weekend racers from across the globe, this is the place where driver aim to drive in their career. Surely being the most challenging road course to ever have existed, it consists of 25.3 km of tarmac with over 70 bends that challenge even the most experienced racers.\",\n",
    "        \"\",\n",
    "        \"Experience thrilling hockey action in VR! The new Hockey DLC for All In One Sports lets you enjoy the fun of air hockey in a completely new way.\",\n",
    "        \"Get ready for the ultimate soccer experience in VR! With the new Soccer DLC for All In One Sports, you can now enjoy soccer like never before.\"    \n",
    "    ]"
   ],
   "id": "93199dab2a9bb84d",
   "outputs": [],
   "execution_count": 22
  },
  {
   "metadata": {},
   "cell_type": "markdown",
   "source": "### long_description",
   "id": "951516c30bdf5dbb"
  },
  {
   "metadata": {
    "ExecuteTime": {
     "end_time": "2024-09-27T07:58:26.551108Z",
     "start_time": "2024-09-27T07:58:26.546663Z"
    }
   },
   "cell_type": "code",
   "source": "games_description.long_description.isnull().sum()",
   "id": "80e82cb652bc3a1f",
   "outputs": [
    {
     "data": {
      "text/plain": [
       "0"
      ]
     },
     "execution_count": 23,
     "metadata": {},
     "output_type": "execute_result"
    }
   ],
   "execution_count": 23
  },
  {
   "metadata": {},
   "cell_type": "markdown",
   "source": "### genres",
   "id": "8dd56cdf3b8742da"
  },
  {
   "metadata": {
    "ExecuteTime": {
     "end_time": "2024-09-27T07:58:26.659811Z",
     "start_time": "2024-09-27T07:58:26.656996Z"
    }
   },
   "cell_type": "code",
   "source": "import ast",
   "id": "63d4e7ac97b71dd5",
   "outputs": [],
   "execution_count": 24
  },
  {
   "metadata": {
    "ExecuteTime": {
     "end_time": "2024-09-27T07:58:26.766001Z",
     "start_time": "2024-09-27T07:58:26.759475Z"
    }
   },
   "cell_type": "code",
   "source": "games_description.genres",
   "id": "9a377661cbd301f3",
   "outputs": [
    {
     "data": {
      "text/plain": [
       "0      ['Mythology', 'Action RPG', 'Action', 'RPG', '...\n",
       "1      ['FPS', 'Shooter', 'Multiplayer', 'Competitive...\n",
       "2      ['Warhammer 40K', 'Action', 'Third-Person Shoo...\n",
       "3      ['Cyberpunk', 'Open World', 'Nudity', 'RPG', '...\n",
       "4      ['Souls-like', 'Dark Fantasy', 'Open World', '...\n",
       "                             ...                        \n",
       "285    ['Simulation', 'Racing', 'Sports', 'Motocross'...\n",
       "286    ['Simulation', 'Racing', 'Sports', 'Motorbike'...\n",
       "287    ['Racing', 'Sports', 'Simulation', 'Motorbike'...\n",
       "288    ['Racing', 'Action', 'Indie', 'Sports', 'Adven...\n",
       "289    ['Simulation', 'Adventure', 'Sports', 'Casual'...\n",
       "Name: genres, Length: 290, dtype: object"
      ]
     },
     "execution_count": 25,
     "metadata": {},
     "output_type": "execute_result"
    }
   ],
   "execution_count": 25
  },
  {
   "metadata": {
    "ExecuteTime": {
     "end_time": "2024-09-27T07:58:26.854184Z",
     "start_time": "2024-09-27T07:58:26.849540Z"
    }
   },
   "cell_type": "code",
   "source": "games_description.genres[0]",
   "id": "e84d01c8418ce8ff",
   "outputs": [
    {
     "data": {
      "text/plain": [
       "\"['Mythology', 'Action RPG', 'Action', 'RPG', 'Souls-like', 'Combat', 'Story Rich', 'Singleplayer', 'Drama', 'Action-Adventure', 'Dark Fantasy', 'Atmospheric', 'Adventure', '3D', 'Fantasy', 'Hack and Slash', 'Third Person', 'Difficult', 'Music', 'Violent']\""
      ]
     },
     "execution_count": 26,
     "metadata": {},
     "output_type": "execute_result"
    }
   ],
   "execution_count": 26
  },
  {
   "metadata": {
    "ExecuteTime": {
     "end_time": "2024-09-27T07:58:27.010741Z",
     "start_time": "2024-09-27T07:58:27.006552Z"
    }
   },
   "cell_type": "code",
   "source": "ast.literal_eval(games_description.genres[0])",
   "id": "c8fcdfb84f3be1c8",
   "outputs": [
    {
     "data": {
      "text/plain": [
       "['Mythology',\n",
       " 'Action RPG',\n",
       " 'Action',\n",
       " 'RPG',\n",
       " 'Souls-like',\n",
       " 'Combat',\n",
       " 'Story Rich',\n",
       " 'Singleplayer',\n",
       " 'Drama',\n",
       " 'Action-Adventure',\n",
       " 'Dark Fantasy',\n",
       " 'Atmospheric',\n",
       " 'Adventure',\n",
       " '3D',\n",
       " 'Fantasy',\n",
       " 'Hack and Slash',\n",
       " 'Third Person',\n",
       " 'Difficult',\n",
       " 'Music',\n",
       " 'Violent']"
      ]
     },
     "execution_count": 27,
     "metadata": {},
     "output_type": "execute_result"
    }
   ],
   "execution_count": 27
  },
  {
   "metadata": {
    "ExecuteTime": {
     "end_time": "2024-09-27T07:58:27.142055Z",
     "start_time": "2024-09-27T07:58:27.128296Z"
    }
   },
   "cell_type": "code",
   "source": "temp=games_description.genres.apply(lambda x: [y.lower().replace(\" \",\"_\") for y in ast.literal_eval(x)])",
   "id": "15c1d4f4c681ed69",
   "outputs": [],
   "execution_count": 28
  },
  {
   "metadata": {
    "ExecuteTime": {
     "end_time": "2024-09-27T07:58:27.269320Z",
     "start_time": "2024-09-27T07:58:27.255933Z"
    }
   },
   "cell_type": "code",
   "source": [
    "genres=[]\n",
    "for game_genres in temp:\n",
    "    for genre in game_genres:\n",
    "        if genre not in genres:\n",
    "            genres.append(genre)\n"
   ],
   "id": "2764557b68075d78",
   "outputs": [],
   "execution_count": 29
  },
  {
   "metadata": {
    "ExecuteTime": {
     "end_time": "2024-09-27T07:58:27.331234Z",
     "start_time": "2024-09-27T07:58:27.326811Z"
    }
   },
   "cell_type": "code",
   "source": "len(genres)",
   "id": "8dd88b522dedc896",
   "outputs": [
    {
     "data": {
      "text/plain": [
       "350"
      ]
     },
     "execution_count": 30,
     "metadata": {},
     "output_type": "execute_result"
    }
   ],
   "execution_count": 30
  },
  {
   "metadata": {},
   "cell_type": "markdown",
   "source": "### release_date",
   "id": "76cadda3dc1e417f"
  },
  {
   "metadata": {
    "ExecuteTime": {
     "end_time": "2024-09-27T07:58:27.432467Z",
     "start_time": "2024-09-27T07:58:27.427430Z"
    }
   },
   "cell_type": "code",
   "source": "games_description.release_date.isnull().sum()",
   "id": "783bf2aaf319e8e1",
   "outputs": [
    {
     "data": {
      "text/plain": [
       "0"
      ]
     },
     "execution_count": 31,
     "metadata": {},
     "output_type": "execute_result"
    }
   ],
   "execution_count": 31
  },
  {
   "metadata": {
    "ExecuteTime": {
     "end_time": "2024-09-27T07:58:27.518555Z",
     "start_time": "2024-09-27T07:58:27.513280Z"
    }
   },
   "cell_type": "code",
   "source": "games_description.release_date",
   "id": "db6f9f8fcec9a0d4",
   "outputs": [
    {
     "data": {
      "text/plain": [
       "0      19 Aug, 2024\n",
       "1      21 Aug, 2012\n",
       "2       9 Sep, 2024\n",
       "3      10 Dec, 2020\n",
       "4      25 Feb, 2022\n",
       "           ...     \n",
       "285    29 Jun, 2018\n",
       "286    27 Aug, 2019\n",
       "287     7 Oct, 2016\n",
       "288     4 Dec, 2020\n",
       "289    10 Mar, 2022\n",
       "Name: release_date, Length: 290, dtype: object"
      ]
     },
     "execution_count": 32,
     "metadata": {},
     "output_type": "execute_result"
    }
   ],
   "execution_count": 32
  },
  {
   "metadata": {
    "ExecuteTime": {
     "end_time": "2024-09-27T07:58:27.600726Z",
     "start_time": "2024-09-27T07:58:27.594542Z"
    }
   },
   "cell_type": "code",
   "source": "games_description.release_date[games_description.release_date.str.split(\"[A-Z]\",regex=True).str.get(0)==\"\"]",
   "id": "f12dd401e47832a",
   "outputs": [
    {
     "data": {
      "text/plain": [
       "38     Nov 2018\n",
       "134    Apr 2019\n",
       "Name: release_date, dtype: object"
      ]
     },
     "execution_count": 33,
     "metadata": {},
     "output_type": "execute_result"
    }
   ],
   "execution_count": 33
  },
  {
   "metadata": {},
   "cell_type": "markdown",
   "source": "### developer",
   "id": "b759e66913928ca3"
  },
  {
   "metadata": {
    "ExecuteTime": {
     "end_time": "2024-09-27T07:58:27.647694Z",
     "start_time": "2024-09-27T07:58:27.642187Z"
    }
   },
   "cell_type": "code",
   "source": "games_description.developer",
   "id": "5c5b74398cbb1954",
   "outputs": [
    {
     "data": {
      "text/plain": [
       "0            ['Game Science']\n",
       "1                   ['Valve']\n",
       "2       ['Saber Interactive']\n",
       "3          ['CD PROJEKT RED']\n",
       "4      ['FromSoftware, Inc.']\n",
       "                ...          \n",
       "285      ['Milestone S.r.l.']\n",
       "286      ['Milestone S.r.l.']\n",
       "287      ['Milestone S.r.l.']\n",
       "288          ['Rewind Games']\n",
       "289           ['Toppluva AB']\n",
       "Name: developer, Length: 290, dtype: object"
      ]
     },
     "execution_count": 34,
     "metadata": {},
     "output_type": "execute_result"
    }
   ],
   "execution_count": 34
  },
  {
   "metadata": {},
   "cell_type": "markdown",
   "source": "### overall_player_rating",
   "id": "2cf84af94e901840"
  },
  {
   "metadata": {
    "ExecuteTime": {
     "end_time": "2024-09-27T07:58:27.812279Z",
     "start_time": "2024-09-27T07:58:27.807619Z"
    }
   },
   "cell_type": "code",
   "source": "games_description.overall_player_rating.unique()",
   "id": "ef093e4be3f2e720",
   "outputs": [
    {
     "data": {
      "text/plain": [
       "array(['Overwhelmingly Positive', 'Very Positive', 'Mixed',\n",
       "       'Mostly Positive', 'Mostly Negative', 'Very Negative',\n",
       "       '7 user reviews', 'Positive', '1 user reviews', '6 user reviews',\n",
       "       '4 user reviews'], dtype=object)"
      ]
     },
     "execution_count": 35,
     "metadata": {},
     "output_type": "execute_result"
    }
   ],
   "execution_count": 35
  },
  {
   "metadata": {
    "ExecuteTime": {
     "end_time": "2024-09-27T07:58:27.929371Z",
     "start_time": "2024-09-27T07:58:27.923249Z"
    }
   },
   "cell_type": "code",
   "source": "games_description.overall_player_rating.value_counts()",
   "id": "29ecf0acd1bfa7ec",
   "outputs": [
    {
     "data": {
      "text/plain": [
       "overall_player_rating\n",
       "Very Positive              146\n",
       "Overwhelmingly Positive     82\n",
       "Mixed                       26\n",
       "Mostly Positive             25\n",
       "Mostly Negative              4\n",
       "Very Negative                2\n",
       "7 user reviews               1\n",
       "Positive                     1\n",
       "1 user reviews               1\n",
       "6 user reviews               1\n",
       "4 user reviews               1\n",
       "Name: count, dtype: int64"
      ]
     },
     "execution_count": 36,
     "metadata": {},
     "output_type": "execute_result"
    }
   ],
   "execution_count": 36
  },
  {
   "metadata": {
    "ExecuteTime": {
     "end_time": "2024-09-27T07:58:28.212333Z",
     "start_time": "2024-09-27T07:58:28.205868Z"
    }
   },
   "cell_type": "code",
   "source": "games_description.overall_player_rating.str.replace(r\"[A-Za-z ]*Positive[A-Za-z ]*\",\"positive\",regex=True).value_counts()",
   "id": "ac7a4b417ca77596",
   "outputs": [
    {
     "data": {
      "text/plain": [
       "overall_player_rating\n",
       "positive           254\n",
       "Mixed               26\n",
       "Mostly Negative      4\n",
       "Very Negative        2\n",
       "7 user reviews       1\n",
       "1 user reviews       1\n",
       "6 user reviews       1\n",
       "4 user reviews       1\n",
       "Name: count, dtype: int64"
      ]
     },
     "execution_count": 37,
     "metadata": {},
     "output_type": "execute_result"
    }
   ],
   "execution_count": 37
  },
  {
   "metadata": {},
   "cell_type": "markdown",
   "source": "### number_of_reviews_from_purchased_people",
   "id": "31a9fe5aff54490"
  },
  {
   "metadata": {
    "ExecuteTime": {
     "end_time": "2024-09-27T07:58:28.431982Z",
     "start_time": "2024-09-27T07:58:28.427458Z"
    }
   },
   "cell_type": "code",
   "source": "games_description.number_of_reviews_from_purchased_people.dtype",
   "id": "8cd8499d51ca1a73",
   "outputs": [
    {
     "data": {
      "text/plain": [
       "dtype('O')"
      ]
     },
     "execution_count": 38,
     "metadata": {},
     "output_type": "execute_result"
    }
   ],
   "execution_count": 38
  },
  {
   "metadata": {
    "ExecuteTime": {
     "end_time": "2024-09-27T07:58:28.666239Z",
     "start_time": "2024-09-27T07:58:28.657005Z"
    }
   },
   "cell_type": "code",
   "source": "games_description[~games_description.number_of_reviews_from_purchased_people.str.replace(r\"[^A-Za-z0-9]\",\"\",regex=True).str.isdigit()].number_of_reviews_from_purchased_people.str.split(\")\").str.get(0).str.split(\"of \").str.get(1)",
   "id": "58fdd2e823c571ed",
   "outputs": [
    {
     "data": {
      "text/plain": [
       "2      62,791\n",
       "23         62\n",
       "34      1,338\n",
       "75        843\n",
       "85        496\n",
       "100     2,688\n",
       "107     1,171\n",
       "127     2,594\n",
       "128     4,986\n",
       "129     4,031\n",
       "130     3,122\n",
       "152       143\n",
       "153       320\n",
       "154     1,326\n",
       "158     5,425\n",
       "161     1,478\n",
       "183     8,251\n",
       "234       463\n",
       "237       NaN\n",
       "246       362\n",
       "251       111\n",
       "252       624\n",
       "253        19\n",
       "255       NaN\n",
       "256       NaN\n",
       "257       NaN\n",
       "261       108\n",
       "263     1,058\n",
       "264       702\n",
       "267       143\n",
       "268     2,597\n",
       "271       838\n",
       "272     1,208\n",
       "274     1,212\n",
       "280       692\n",
       "282       297\n",
       "286       858\n",
       "287     2,335\n",
       "288       420\n",
       "289       196\n",
       "Name: number_of_reviews_from_purchased_people, dtype: object"
      ]
     },
     "execution_count": 39,
     "metadata": {},
     "output_type": "execute_result"
    }
   ],
   "execution_count": 39
  },
  {
   "metadata": {
    "ExecuteTime": {
     "end_time": "2024-09-27T07:58:28.919985Z",
     "start_time": "2024-09-27T07:58:28.915900Z"
    }
   },
   "cell_type": "code",
   "source": "games_description.shape",
   "id": "a19123e114bae168",
   "outputs": [
    {
     "data": {
      "text/plain": [
       "(290, 13)"
      ]
     },
     "execution_count": 40,
     "metadata": {},
     "output_type": "execute_result"
    }
   ],
   "execution_count": 40
  },
  {
   "metadata": {
    "ExecuteTime": {
     "end_time": "2024-09-27T07:58:29.078753Z",
     "start_time": "2024-09-27T07:58:29.074237Z"
    }
   },
   "cell_type": "code",
   "source": "games_description.columns",
   "id": "bbb09c39bf3ef072",
   "outputs": [
    {
     "data": {
      "text/plain": [
       "Index(['name', 'short_description', 'long_description', 'genres',\n",
       "       'minimum_system_requirement', 'recommend_system_requirement',\n",
       "       'release_date', 'developer', 'publisher', 'overall_player_rating',\n",
       "       'number_of_reviews_from_purchased_people', 'number_of_english_reviews',\n",
       "       'link'],\n",
       "      dtype='object')"
      ]
     },
     "execution_count": 41,
     "metadata": {},
     "output_type": "execute_result"
    }
   ],
   "execution_count": 41
  },
  {
   "metadata": {},
   "cell_type": "markdown",
   "source": "## steam_game_reviews",
   "id": "cfb05a6f9e06f72d"
  },
  {
   "metadata": {},
   "cell_type": "markdown",
   "source": "### review",
   "id": "e015b1c5574dab72"
  },
  {
   "metadata": {
    "ExecuteTime": {
     "end_time": "2024-09-27T07:58:29.302095Z",
     "start_time": "2024-09-27T07:58:29.296257Z"
    }
   },
   "cell_type": "code",
   "source": "steam_game_reviews.review",
   "id": "26d18950285031ce",
   "outputs": [
    {
     "data": {
      "text/plain": [
       "0         The game itself is also super fun. The PvP and...\n",
       "1         Never cared much about Warhammer until this ga...\n",
       "2         A salute to all the fallen battle brothers who...\n",
       "3         this game feels like it was made in the mid 20...\n",
       "4         Reminds me of something I've lost. A genuine g...\n",
       "                                ...                        \n",
       "992148    2022 Early Access Review Loads of fun!Initiall...\n",
       "992149                  2022 Early Access Review Great fun!\n",
       "992150    2022 Early Access Review Excellent pick up and...\n",
       "992151    2022 Early Access Review This game is so much ...\n",
       "992152    2022 Early Access Review Im in love with the G...\n",
       "Name: review, Length: 992152, dtype: object"
      ]
     },
     "execution_count": 42,
     "metadata": {},
     "output_type": "execute_result"
    }
   ],
   "execution_count": 42
  },
  {
   "metadata": {
    "ExecuteTime": {
     "end_time": "2024-09-27T07:58:29.506222Z",
     "start_time": "2024-09-27T07:58:29.452229Z"
    }
   },
   "cell_type": "code",
   "source": "steam_game_reviews.query(\"review=='!'\").review",
   "id": "9775d65b5097eae1",
   "outputs": [
    {
     "data": {
      "text/plain": [
       "5484      !\n",
       "33493     !\n",
       "291180    !\n",
       "447713    !\n",
       "503976    !\n",
       "530040    !\n",
       "621871    !\n",
       "754786    !\n",
       "755725    !\n",
       "868468    !\n",
       "894066    !\n",
       "908232    !\n",
       "934684    !\n",
       "982963    !\n",
       "Name: review, dtype: object"
      ]
     },
     "execution_count": 43,
     "metadata": {},
     "output_type": "execute_result"
    }
   ],
   "execution_count": 43
  },
  {
   "metadata": {},
   "cell_type": "markdown",
   "source": "### hours_played",
   "id": "e54a9170602e5378"
  },
  {
   "metadata": {
    "ExecuteTime": {
     "end_time": "2024-09-27T07:58:29.657383Z",
     "start_time": "2024-09-27T07:58:29.651755Z"
    }
   },
   "cell_type": "code",
   "source": "steam_game_reviews.hours_played",
   "id": "4457674705cec4c1",
   "outputs": [
    {
     "data": {
      "text/plain": [
       "0          39.9\n",
       "1          91.5\n",
       "2          43.3\n",
       "3          16.8\n",
       "4          24.0\n",
       "          ...  \n",
       "992148      4.2\n",
       "992149      8.5\n",
       "992150     83.3\n",
       "992151      3.8\n",
       "992152    315.3\n",
       "Name: hours_played, Length: 992152, dtype: object"
      ]
     },
     "execution_count": 44,
     "metadata": {},
     "output_type": "execute_result"
    }
   ],
   "execution_count": 44
  },
  {
   "metadata": {
    "ExecuteTime": {
     "end_time": "2024-09-27T07:58:29.885120Z",
     "start_time": "2024-09-27T07:58:29.880739Z"
    }
   },
   "cell_type": "code",
   "source": "steam_game_reviews.hours_played.dtype",
   "id": "126fa65c2b95ff4e",
   "outputs": [
    {
     "data": {
      "text/plain": [
       "dtype('O')"
      ]
     },
     "execution_count": 45,
     "metadata": {},
     "output_type": "execute_result"
    }
   ],
   "execution_count": 45
  },
  {
   "metadata": {
    "ExecuteTime": {
     "end_time": "2024-09-27T07:58:31.911229Z",
     "start_time": "2024-09-27T07:58:31.766376Z"
    }
   },
   "cell_type": "code",
   "source": "steam_game_reviews.hours_played.str.isdigit().sum()",
   "id": "843aee0d1504c560",
   "outputs": [
    {
     "data": {
      "text/plain": [
       "0"
      ]
     },
     "execution_count": 46,
     "metadata": {},
     "output_type": "execute_result"
    }
   ],
   "execution_count": 46
  },
  {
   "metadata": {
    "ExecuteTime": {
     "end_time": "2024-09-27T07:58:32.331625Z",
     "start_time": "2024-09-27T07:58:32.013077Z"
    }
   },
   "cell_type": "code",
   "source": "steam_game_reviews.hours_played.str.contains(\"[^.0-9]\",regex=True).sum()",
   "id": "5516c5a2bf4ed3e8",
   "outputs": [
    {
     "data": {
      "text/plain": [
       "73716"
      ]
     },
     "execution_count": 47,
     "metadata": {},
     "output_type": "execute_result"
    }
   ],
   "execution_count": 47
  },
  {
   "metadata": {
    "ExecuteTime": {
     "end_time": "2024-09-27T07:58:32.810233Z",
     "start_time": "2024-09-27T07:58:32.518563Z"
    }
   },
   "cell_type": "code",
   "source": "steam_game_reviews[steam_game_reviews.hours_played.str.contains(\"[^.0-9]\",regex=True)].hours_played",
   "id": "b0332a7cd93c1301",
   "outputs": [
    {
     "data": {
      "text/plain": [
       "6769      4,737.7\n",
       "6770      5,656.1\n",
       "6771      1,010.7\n",
       "6772      2,628.8\n",
       "6775      8,112.5\n",
       "           ...   \n",
       "991763    1,241.8\n",
       "991830    1,141.2\n",
       "991832    1,567.4\n",
       "991964    1,583.7\n",
       "992007    1,697.9\n",
       "Name: hours_played, Length: 73716, dtype: object"
      ]
     },
     "execution_count": 48,
     "metadata": {},
     "output_type": "execute_result"
    }
   ],
   "execution_count": 48
  },
  {
   "metadata": {
    "ExecuteTime": {
     "end_time": "2024-09-27T07:58:33.619302Z",
     "start_time": "2024-09-27T07:58:32.854667Z"
    }
   },
   "cell_type": "code",
   "source": "steam_game_reviews.hours_played.str.replace(r\"[^.0-9]\",\"\",regex=True).astype(float).astype(int)",
   "id": "7e0af385aaf3bdd2",
   "outputs": [
    {
     "data": {
      "text/plain": [
       "0          39\n",
       "1          91\n",
       "2          43\n",
       "3          16\n",
       "4          24\n",
       "         ... \n",
       "992148      4\n",
       "992149      8\n",
       "992150     83\n",
       "992151      3\n",
       "992152    315\n",
       "Name: hours_played, Length: 992152, dtype: int64"
      ]
     },
     "execution_count": 49,
     "metadata": {},
     "output_type": "execute_result"
    }
   ],
   "execution_count": 49
  },
  {
   "metadata": {},
   "cell_type": "markdown",
   "source": "### helpful",
   "id": "ad1e482ff36ecf48"
  },
  {
   "metadata": {
    "ExecuteTime": {
     "end_time": "2024-09-27T07:58:33.668925Z",
     "start_time": "2024-09-27T07:58:33.663192Z"
    }
   },
   "cell_type": "code",
   "source": "steam_game_reviews.helpful",
   "id": "48b7769d92241425",
   "outputs": [
    {
     "data": {
      "text/plain": [
       "0         1,152\n",
       "1           712\n",
       "2           492\n",
       "3           661\n",
       "4           557\n",
       "          ...  \n",
       "992148        1\n",
       "992149        1\n",
       "992150        2\n",
       "992151        1\n",
       "992152        0\n",
       "Name: helpful, Length: 992152, dtype: object"
      ]
     },
     "execution_count": 50,
     "metadata": {},
     "output_type": "execute_result"
    }
   ],
   "execution_count": 50
  },
  {
   "metadata": {
    "ExecuteTime": {
     "end_time": "2024-09-27T07:58:34.363119Z",
     "start_time": "2024-09-27T07:58:33.800699Z"
    }
   },
   "cell_type": "code",
   "source": "steam_game_reviews.helpful.str.replace(r\"[^.0-9]\",\"\",regex=True).astype(float).astype(int)",
   "id": "54ddad7483c86db9",
   "outputs": [
    {
     "data": {
      "text/plain": [
       "0         1152\n",
       "1          712\n",
       "2          492\n",
       "3          661\n",
       "4          557\n",
       "          ... \n",
       "992148       1\n",
       "992149       1\n",
       "992150       2\n",
       "992151       1\n",
       "992152       0\n",
       "Name: helpful, Length: 992152, dtype: int64"
      ]
     },
     "execution_count": 51,
     "metadata": {},
     "output_type": "execute_result"
    }
   ],
   "execution_count": 51
  },
  {
   "metadata": {},
   "cell_type": "markdown",
   "source": "### funny",
   "id": "a26133040fe7329a"
  },
  {
   "metadata": {
    "ExecuteTime": {
     "end_time": "2024-09-27T07:58:34.629356Z",
     "start_time": "2024-09-27T07:58:34.624246Z"
    }
   },
   "cell_type": "code",
   "source": "steam_game_reviews.funny",
   "id": "103e94105e0196bf",
   "outputs": [
    {
     "data": {
      "text/plain": [
       "0          13\n",
       "1         116\n",
       "2          33\n",
       "3          15\n",
       "4           4\n",
       "         ... \n",
       "992148      0\n",
       "992149      0\n",
       "992150      0\n",
       "992151      0\n",
       "992152      0\n",
       "Name: funny, Length: 992152, dtype: object"
      ]
     },
     "execution_count": 52,
     "metadata": {},
     "output_type": "execute_result"
    }
   ],
   "execution_count": 52
  },
  {
   "metadata": {
    "ExecuteTime": {
     "end_time": "2024-09-27T07:58:34.814759Z",
     "start_time": "2024-09-27T07:58:34.698380Z"
    }
   },
   "cell_type": "code",
   "source": "steam_game_reviews.funny.str.isdigit()",
   "id": "d3619c837d733045",
   "outputs": [
    {
     "data": {
      "text/plain": [
       "0         True\n",
       "1         True\n",
       "2         True\n",
       "3         True\n",
       "4         True\n",
       "          ... \n",
       "992148    True\n",
       "992149    True\n",
       "992150    True\n",
       "992151    True\n",
       "992152    True\n",
       "Name: funny, Length: 992152, dtype: bool"
      ]
     },
     "execution_count": 53,
     "metadata": {},
     "output_type": "execute_result"
    }
   ],
   "execution_count": 53
  },
  {
   "metadata": {},
   "cell_type": "markdown",
   "source": "### recommendation",
   "id": "2c7bb90ddddd4227"
  },
  {
   "metadata": {
    "ExecuteTime": {
     "end_time": "2024-09-27T07:58:35.092431Z",
     "start_time": "2024-09-27T07:58:35.088351Z"
    }
   },
   "cell_type": "code",
   "source": "steam_game_reviews.recommendation",
   "id": "9deb140bfe787f29",
   "outputs": [
    {
     "data": {
      "text/plain": [
       "0             Recommended\n",
       "1             Recommended\n",
       "2             Recommended\n",
       "3             Recommended\n",
       "4             Recommended\n",
       "               ...       \n",
       "992148        Recommended\n",
       "992149        Recommended\n",
       "992150        Recommended\n",
       "992151        Recommended\n",
       "992152    Not Recommended\n",
       "Name: recommendation, Length: 992152, dtype: object"
      ]
     },
     "execution_count": 54,
     "metadata": {},
     "output_type": "execute_result"
    }
   ],
   "execution_count": 54
  },
  {
   "metadata": {
    "ExecuteTime": {
     "end_time": "2024-09-27T07:58:35.364660Z",
     "start_time": "2024-09-27T07:58:35.310473Z"
    }
   },
   "cell_type": "code",
   "source": "steam_game_reviews.recommendation.value_counts()",
   "id": "349e4321c235248b",
   "outputs": [
    {
     "data": {
      "text/plain": [
       "recommendation\n",
       "Recommended        805781\n",
       "Not Recommended    186371\n",
       "Name: count, dtype: int64"
      ]
     },
     "execution_count": 55,
     "metadata": {},
     "output_type": "execute_result"
    }
   ],
   "execution_count": 55
  },
  {
   "metadata": {},
   "cell_type": "markdown",
   "source": "### date",
   "id": "f265dea8c5a02611"
  },
  {
   "metadata": {
    "ExecuteTime": {
     "end_time": "2024-09-27T07:58:35.533245Z",
     "start_time": "2024-09-27T07:58:35.528346Z"
    }
   },
   "cell_type": "code",
   "source": "steam_game_reviews.date",
   "id": "f2fe469dad831b81",
   "outputs": [
    {
     "data": {
      "text/plain": [
       "0           14 September\n",
       "1           13 September\n",
       "2           14 September\n",
       "3           14 September\n",
       "4           12 September\n",
       "               ...      \n",
       "992148    August 4, 2022\n",
       "992149    August 4, 2022\n",
       "992150    August 4, 2022\n",
       "992151    August 4, 2022\n",
       "992152    August 4, 2022\n",
       "Name: date, Length: 992152, dtype: object"
      ]
     },
     "execution_count": 56,
     "metadata": {},
     "output_type": "execute_result"
    }
   ],
   "execution_count": 56
  },
  {
   "metadata": {
    "ExecuteTime": {
     "end_time": "2024-09-27T07:58:36.457768Z",
     "start_time": "2024-09-27T07:58:36.021558Z"
    }
   },
   "cell_type": "code",
   "source": "steam_game_reviews.date.str.contains(\"[^,]\",regex=True).sum()",
   "id": "b44ca9ae1391eea8",
   "outputs": [
    {
     "data": {
      "text/plain": [
       "992152"
      ]
     },
     "execution_count": 57,
     "metadata": {},
     "output_type": "execute_result"
    }
   ],
   "execution_count": 57
  },
  {
   "metadata": {
    "ExecuteTime": {
     "end_time": "2024-09-27T07:58:37.230321Z",
     "start_time": "2024-09-27T07:58:36.679171Z"
    }
   },
   "cell_type": "code",
   "source": "steam_game_reviews[steam_game_reviews.date.str.contains(\"[^,]\",regex=True)].date",
   "id": "8751dc27274ede09",
   "outputs": [
    {
     "data": {
      "text/plain": [
       "0           14 September\n",
       "1           13 September\n",
       "2           14 September\n",
       "3           14 September\n",
       "4           12 September\n",
       "               ...      \n",
       "992148    August 4, 2022\n",
       "992149    August 4, 2022\n",
       "992150    August 4, 2022\n",
       "992151    August 4, 2022\n",
       "992152    August 4, 2022\n",
       "Name: date, Length: 992152, dtype: object"
      ]
     },
     "execution_count": 58,
     "metadata": {},
     "output_type": "execute_result"
    }
   ],
   "execution_count": 58
  },
  {
   "metadata": {},
   "cell_type": "markdown",
   "source": "### username",
   "id": "9079a3f108b19e8c"
  },
  {
   "metadata": {
    "ExecuteTime": {
     "end_time": "2024-09-27T07:58:37.657239Z",
     "start_time": "2024-09-27T07:58:37.652565Z"
    }
   },
   "cell_type": "code",
   "source": "steam_game_reviews.username",
   "id": "3111321f12c38373",
   "outputs": [
    {
     "data": {
      "text/plain": [
       "0            Sentinowl\\n224 products in account\n",
       "1              userpig\\n248 products in account\n",
       "2            Imparat0r\\n112 products in account\n",
       "3                                Fattest_falcon\n",
       "4                  Jek\\n410 products in account\n",
       "                          ...                  \n",
       "992148    Fatal Exit\\n1,902 products in account\n",
       "992149                                  cleybaR\n",
       "992150             Sim\\n600 products in account\n",
       "992151                             Fatboybadboy\n",
       "992152           Wolfy\\n136 products in account\n",
       "Name: username, Length: 992152, dtype: object"
      ]
     },
     "execution_count": 59,
     "metadata": {},
     "output_type": "execute_result"
    }
   ],
   "execution_count": 59
  },
  {
   "metadata": {
    "ExecuteTime": {
     "end_time": "2024-09-27T07:58:37.847844Z",
     "start_time": "2024-09-27T07:58:37.745774Z"
    }
   },
   "cell_type": "code",
   "source": "steam_game_reviews[steam_game_reviews.username==\"!\"].username",
   "id": "b5fc1eac903376fb",
   "outputs": [
    {
     "data": {
      "text/plain": [
       "53855     !\n",
       "141932    !\n",
       "296606    !\n",
       "364119    !\n",
       "379868    !\n",
       "Name: username, dtype: object"
      ]
     },
     "execution_count": 60,
     "metadata": {},
     "output_type": "execute_result"
    }
   ],
   "execution_count": 60
  },
  {
   "metadata": {
    "ExecuteTime": {
     "end_time": "2024-09-27T07:58:40.439403Z",
     "start_time": "2024-09-27T07:58:37.928309Z"
    }
   },
   "cell_type": "code",
   "source": "steam_game_reviews.username.str.split(\"\\n\").str.get(0).str.strip().value_counts()",
   "id": "421c4959bc7d3637",
   "outputs": [
    {
     "data": {
      "text/plain": [
       "username\n",
       "123             252\n",
       "Alex            234\n",
       "Ghost           221\n",
       ".               218\n",
       "󠀡󠀡              213\n",
       "               ... \n",
       "CRazeD            1\n",
       "n dat it.         1\n",
       "神が第一です♥           1\n",
       "KONOHAX           1\n",
       "Fatboybadboy      1\n",
       "Name: count, Length: 701967, dtype: int64"
      ]
     },
     "execution_count": 61,
     "metadata": {},
     "output_type": "execute_result"
    }
   ],
   "execution_count": 61
  },
  {
   "metadata": {
    "ExecuteTime": {
     "end_time": "2024-09-27T07:58:43.015425Z",
     "start_time": "2024-09-27T07:58:40.766537Z"
    }
   },
   "cell_type": "code",
   "source": "temp_usr=steam_game_reviews.username.str.split(\"\\n\").str.get(0).str.replace(\"!\",\"\").str.strip()",
   "id": "63927edb68d80395",
   "outputs": [],
   "execution_count": 62
  },
  {
   "metadata": {
    "ExecuteTime": {
     "end_time": "2024-09-27T07:58:43.294569Z",
     "start_time": "2024-09-27T07:58:43.194275Z"
    }
   },
   "cell_type": "code",
   "source": "temp_usr[temp_usr==\".\"]",
   "id": "f2f319757768d356",
   "outputs": [
    {
     "data": {
      "text/plain": [
       "3388      .\n",
       "5459      .\n",
       "6520      .\n",
       "8813      .\n",
       "11490     .\n",
       "         ..\n",
       "961620    .\n",
       "982096    .\n",
       "982955    .\n",
       "989224    .\n",
       "990810    .\n",
       "Name: username, Length: 219, dtype: object"
      ]
     },
     "execution_count": 63,
     "metadata": {},
     "output_type": "execute_result"
    }
   ],
   "execution_count": 63
  },
  {
   "metadata": {
    "ExecuteTime": {
     "end_time": "2024-09-27T07:58:44.853481Z",
     "start_time": "2024-09-27T07:58:44.746927Z"
    }
   },
   "cell_type": "code",
   "source": "temp_usr[temp_usr==\"\"]",
   "id": "dbfc8b71438dc32a",
   "outputs": [
    {
     "data": {
      "text/plain": [
       "14274     \n",
       "53855     \n",
       "135426    \n",
       "141932    \n",
       "151514    \n",
       "171158    \n",
       "282136    \n",
       "296606    \n",
       "324155    \n",
       "364119    \n",
       "379868    \n",
       "461263    \n",
       "558676    \n",
       "799447    \n",
       "897197    \n",
       "Name: username, dtype: object"
      ]
     },
     "execution_count": 64,
     "metadata": {},
     "output_type": "execute_result"
    }
   ],
   "execution_count": 64
  },
  {
   "metadata": {
    "ExecuteTime": {
     "end_time": "2024-09-27T07:58:45.035845Z",
     "start_time": "2024-09-27T07:58:44.958063Z"
    }
   },
   "cell_type": "code",
   "source": "temp_usr[temp_usr.isnull()]",
   "id": "9db65e8708d65b46",
   "outputs": [
    {
     "data": {
      "text/plain": [
       "7737      NaN\n",
       "8798      NaN\n",
       "9545      NaN\n",
       "19161     NaN\n",
       "26303     NaN\n",
       "         ... \n",
       "965347    NaN\n",
       "965348    NaN\n",
       "965349    NaN\n",
       "968674    NaN\n",
       "976468    NaN\n",
       "Name: username, Length: 81, dtype: object"
      ]
     },
     "execution_count": 65,
     "metadata": {},
     "output_type": "execute_result"
    }
   ],
   "execution_count": 65
  },
  {
   "metadata": {
    "ExecuteTime": {
     "end_time": "2024-09-27T07:58:46.581331Z",
     "start_time": "2024-09-27T07:58:45.150818Z"
    }
   },
   "cell_type": "code",
   "source": "temp_usr[~(temp_usr.isnull())&~(temp_usr==\"\")&~(temp_usr==\".\")].value_counts()",
   "id": "b1edb9e4a73f970c",
   "outputs": [
    {
     "data": {
      "text/plain": [
       "username\n",
       "123             252\n",
       "Alex            234\n",
       "Ghost           222\n",
       "󠀡󠀡              213\n",
       "Max             163\n",
       "               ... \n",
       "Lamanai           1\n",
       "Kalora            1\n",
       "Daosilv           1\n",
       "Folkye            1\n",
       "Fatboybadboy      1\n",
       "Name: count, Length: 701337, dtype: int64"
      ]
     },
     "execution_count": 66,
     "metadata": {},
     "output_type": "execute_result"
    }
   ],
   "execution_count": 66
  },
  {
   "metadata": {
    "ExecuteTime": {
     "end_time": "2024-09-27T07:58:46.631534Z",
     "start_time": "2024-09-27T07:58:46.626335Z"
    }
   },
   "cell_type": "code",
   "source": "steam_game_reviews.columns",
   "id": "f844008ea67aa80b",
   "outputs": [
    {
     "data": {
      "text/plain": [
       "Index(['review', 'hours_played', 'helpful', 'funny', 'recommendation', 'date',\n",
       "       'game_name', 'username'],\n",
       "      dtype='object')"
      ]
     },
     "execution_count": 67,
     "metadata": {},
     "output_type": "execute_result"
    }
   ],
   "execution_count": 67
  },
  {
   "metadata": {},
   "cell_type": "markdown",
   "source": "# Cleaning",
   "id": "2022ad9ed33d9dc3"
  },
  {
   "metadata": {
    "ExecuteTime": {
     "end_time": "2024-09-27T07:58:46.872930Z",
     "start_time": "2024-09-27T07:58:46.775331Z"
    }
   },
   "cell_type": "code",
   "source": [
    "from sklearn.preprocessing import LabelEncoder\n",
    "def steam_game_reviews_clean(df: pd.DataFrame) -> pd.DataFrame:\n",
    "    \n",
    "    df=df.assign(\n",
    "        hours_played=df.hours_played.str.replace(r\"[^.0-9]\",\"\",regex=True).astype(float).astype(int),\n",
    "        helpful=df.helpful.str.replace(r\"[^0-9]\",\"\",regex=True).astype(int),\n",
    "        funny=df.funny.str.replace(r\"[^0-9]\",\"\",regex=True).astype(int),\n",
    "        username=df.username.str.split(\"\\n\").str.get(0).str.replace(\"!\",\"\").str.strip()\n",
    "        \n",
    "    ).drop(columns=[\"date\"])\n",
    "    df=df[~(df.username.isnull())&~(df.username==\"\")&~(df.username==\".\")]\n",
    "    return df"
   ],
   "id": "eafaa048714e4344",
   "outputs": [],
   "execution_count": 68
  },
  {
   "metadata": {
    "ExecuteTime": {
     "end_time": "2024-09-27T07:58:47.143393Z",
     "start_time": "2024-09-27T07:58:47.135657Z"
    }
   },
   "cell_type": "code",
   "source": [
    "def games_description_clean(df:pd.DataFrame)->pd.DataFrame:\n",
    "    df=df[['name','genres','release_date',\"number_of_reviews_from_purchased_people\",\"link\",\"developer\",\"publisher\"]].copy()\n",
    "    \n",
    "    df.loc[df[~df.number_of_reviews_from_purchased_people.str.replace(r\"[^A-Za-z0-9]\",\"\",regex=True).str.isdigit()].index,[\"number_of_reviews_from_purchased_people\"]]=df[~df.number_of_reviews_from_purchased_people.str.replace(r\"[^A-Za-z0-9]\",\"\",regex=True).str.isdigit()].number_of_reviews_from_purchased_people.str.split(\")\").str.get(0).str.split(\"of \").str.get(1)\n",
    "    \n",
    "    \n",
    "    \n",
    "    df=df.assign(\n",
    "        genres=df.genres.apply(lambda x: [y.lower().replace(\" \",\"_\") for y in ast.literal_eval(x)]),\n",
    "        release_date=df.release_date.str.split(\" \").str.get(-1),\n",
    "        number_of_reviews_from_purchased_people=pd.to_numeric(df.number_of_reviews_from_purchased_people.str.replace(r\"[^0-9]\",\"\",regex=True))\n",
    "    )\n",
    "    return df.rename(columns={\"name\":\"game_name\",\"release_date\":\"release_year\"})\n",
    "    "
   ],
   "id": "a708558b9793ce67",
   "outputs": [],
   "execution_count": 69
  },
  {
   "metadata": {
    "ExecuteTime": {
     "end_time": "2024-09-27T07:58:47.293538Z",
     "start_time": "2024-09-27T07:58:47.257400Z"
    }
   },
   "cell_type": "code",
   "source": "pd.to_numeric( games_description_clean(games_description).number_of_reviews_from_purchased_people)",
   "id": "1933ea3bcbc28f6d",
   "outputs": [
    {
     "data": {
      "text/plain": [
       "0       654820.0\n",
       "1      8313603.0\n",
       "2        62791.0\n",
       "3       680264.0\n",
       "4       705261.0\n",
       "         ...    \n",
       "285        777.0\n",
       "286        858.0\n",
       "287       2335.0\n",
       "288        420.0\n",
       "289        196.0\n",
       "Name: number_of_reviews_from_purchased_people, Length: 290, dtype: float64"
      ]
     },
     "execution_count": 70,
     "metadata": {},
     "output_type": "execute_result"
    }
   ],
   "execution_count": 70
  },
  {
   "metadata": {
    "ExecuteTime": {
     "end_time": "2024-09-27T07:58:51.215182Z",
     "start_time": "2024-09-27T07:58:47.493814Z"
    }
   },
   "cell_type": "code",
   "source": [
    "#cleaning\n",
    "games_description=games_description_clean(games_description)\n",
    "steam_game_reviews=steam_game_reviews_clean(steam_game_reviews)"
   ],
   "id": "33ea2592bb854c30",
   "outputs": [],
   "execution_count": 71
  },
  {
   "metadata": {
    "ExecuteTime": {
     "end_time": "2024-09-27T07:58:51.336763Z",
     "start_time": "2024-09-27T07:58:51.332486Z"
    }
   },
   "cell_type": "code",
   "source": "games_description.columns",
   "id": "98203294f5cb8267",
   "outputs": [
    {
     "data": {
      "text/plain": [
       "Index(['game_name', 'genres', 'release_year',\n",
       "       'number_of_reviews_from_purchased_people', 'link', 'developer',\n",
       "       'publisher'],\n",
       "      dtype='object')"
      ]
     },
     "execution_count": 72,
     "metadata": {},
     "output_type": "execute_result"
    }
   ],
   "execution_count": 72
  },
  {
   "metadata": {
    "ExecuteTime": {
     "end_time": "2024-09-27T07:58:51.393663Z",
     "start_time": "2024-09-27T07:58:51.389934Z"
    }
   },
   "cell_type": "code",
   "source": "steam_game_reviews.columns",
   "id": "c9b55855dd2cb0b9",
   "outputs": [
    {
     "data": {
      "text/plain": [
       "Index(['review', 'hours_played', 'helpful', 'funny', 'recommendation',\n",
       "       'game_name', 'username'],\n",
       "      dtype='object')"
      ]
     },
     "execution_count": 73,
     "metadata": {},
     "output_type": "execute_result"
    }
   ],
   "execution_count": 73
  },
  {
   "metadata": {},
   "cell_type": "markdown",
   "source": "# concatenation",
   "id": "30a5b228f02e5763"
  },
  {
   "metadata": {
    "ExecuteTime": {
     "end_time": "2024-09-27T07:58:51.519050Z",
     "start_time": "2024-09-27T07:58:51.514488Z"
    }
   },
   "cell_type": "code",
   "source": "games_description.game_name.nunique()",
   "id": "46e135243a3579c3",
   "outputs": [
    {
     "data": {
      "text/plain": [
       "290"
      ]
     },
     "execution_count": 74,
     "metadata": {},
     "output_type": "execute_result"
    }
   ],
   "execution_count": 74
  },
  {
   "metadata": {
    "ExecuteTime": {
     "end_time": "2024-09-27T07:58:51.653808Z",
     "start_time": "2024-09-27T07:58:51.596454Z"
    }
   },
   "cell_type": "code",
   "source": "steam_game_reviews.game_name.nunique()",
   "id": "18e5b353aa8e4185",
   "outputs": [
    {
     "data": {
      "text/plain": [
       "242"
      ]
     },
     "execution_count": 75,
     "metadata": {},
     "output_type": "execute_result"
    }
   ],
   "execution_count": 75
  },
  {
   "metadata": {
    "ExecuteTime": {
     "end_time": "2024-09-27T07:59:13.619269Z",
     "start_time": "2024-09-27T07:59:12.887187Z"
    }
   },
   "cell_type": "code",
   "source": "games_description.merge(steam_game_reviews,on=\"game_name\").game_name.nunique()",
   "id": "bcfb1709520db790",
   "outputs": [
    {
     "data": {
      "text/plain": [
       "227"
      ]
     },
     "execution_count": 77,
     "metadata": {},
     "output_type": "execute_result"
    }
   ],
   "execution_count": 77
  },
  {
   "metadata": {
    "ExecuteTime": {
     "end_time": "2024-09-27T07:59:16.162528Z",
     "start_time": "2024-09-27T07:59:15.609234Z"
    }
   },
   "cell_type": "code",
   "source": "final_data=games_description.merge(steam_game_reviews,on=\"game_name\")",
   "id": "fb615a090e282854",
   "outputs": [],
   "execution_count": 78
  },
  {
   "metadata": {
    "ExecuteTime": {
     "end_time": "2024-09-27T07:59:21.287728Z",
     "start_time": "2024-09-27T07:59:18.746942Z"
    }
   },
   "cell_type": "code",
   "source": [
    "label_encoder1 = LabelEncoder()\n",
    "final_data[\"user_id\"]=label_encoder1.fit_transform(final_data[\"username\"])\n",
    "label_encoder2 = LabelEncoder()\n",
    "final_data[\"game_id\"]=label_encoder2.fit_transform(final_data[\"game_name\"])"
   ],
   "id": "13134ea730a85ea0",
   "outputs": [],
   "execution_count": 79
  },
  {
   "metadata": {
    "ExecuteTime": {
     "end_time": "2024-09-27T07:59:24.115728Z",
     "start_time": "2024-09-27T07:59:24.110663Z"
    }
   },
   "cell_type": "code",
   "source": "final_data.shape",
   "id": "dbd3d0d25441d653",
   "outputs": [
    {
     "data": {
      "text/plain": [
       "(924955, 15)"
      ]
     },
     "execution_count": 80,
     "metadata": {},
     "output_type": "execute_result"
    }
   ],
   "execution_count": 80
  },
  {
   "metadata": {
    "ExecuteTime": {
     "end_time": "2024-09-27T07:58:52.064165526Z",
     "start_time": "2024-09-26T06:02:42.269202Z"
    }
   },
   "cell_type": "code",
   "source": "",
   "id": "bc7b95acbfca9318",
   "outputs": [],
   "execution_count": null
  },
  {
   "metadata": {},
   "cell_type": "markdown",
   "source": "# spilliting data into train, val, test",
   "id": "f80c3f99a81ef166"
  },
  {
   "metadata": {
    "ExecuteTime": {
     "end_time": "2024-09-27T07:59:31.160479Z",
     "start_time": "2024-09-27T07:59:31.157655Z"
    }
   },
   "cell_type": "code",
   "source": "np.random.seed(42)",
   "id": "19784dc4d19a213e",
   "outputs": [],
   "execution_count": 81
  },
  {
   "metadata": {
    "ExecuteTime": {
     "end_time": "2024-09-27T07:59:33.476634Z",
     "start_time": "2024-09-27T07:59:33.410096Z"
    }
   },
   "cell_type": "code",
   "source": [
    "repeated_user_index=np.array(final_data[final_data[\"user_id\"].duplicated()].index)\n",
    "np.random.shuffle(repeated_user_index)"
   ],
   "id": "779d9d6dad6c4077",
   "outputs": [],
   "execution_count": 82
  },
  {
   "metadata": {
    "ExecuteTime": {
     "end_time": "2024-09-27T07:59:36.761996Z",
     "start_time": "2024-09-27T07:59:36.697880Z"
    }
   },
   "cell_type": "code",
   "source": "val=final_data.iloc[repeated_user_index[:100000],:]",
   "id": "161b23b9eb829a5c",
   "outputs": [],
   "execution_count": 83
  },
  {
   "metadata": {
    "ExecuteTime": {
     "end_time": "2024-09-27T07:59:38.286979Z",
     "start_time": "2024-09-27T07:59:38.226716Z"
    }
   },
   "cell_type": "code",
   "source": "test=final_data.iloc[repeated_user_index[100000:200000],:]",
   "id": "2bf2209617dc52c0",
   "outputs": [],
   "execution_count": 84
  },
  {
   "metadata": {
    "ExecuteTime": {
     "end_time": "2024-09-27T07:59:40.416634Z",
     "start_time": "2024-09-27T07:59:40.377750Z"
    }
   },
   "cell_type": "code",
   "source": "train1=final_data.iloc[repeated_user_index[200000:],:]",
   "id": "e55018db03b26523",
   "outputs": [],
   "execution_count": 85
  },
  {
   "metadata": {
    "ExecuteTime": {
     "end_time": "2024-09-27T07:59:42.325565Z",
     "start_time": "2024-09-27T07:59:42.241462Z"
    }
   },
   "cell_type": "code",
   "source": "train2=final_data[~final_data[\"user_id\"].duplicated()]",
   "id": "ff7adaa8ba6193d3",
   "outputs": [],
   "execution_count": 86
  },
  {
   "metadata": {
    "ExecuteTime": {
     "end_time": "2024-09-27T07:59:50.507216Z",
     "start_time": "2024-09-27T07:59:50.450049Z"
    }
   },
   "cell_type": "code",
   "source": "train=pd.concat([train1,train2],ignore_index=True)",
   "id": "697f9e5bacc6653b",
   "outputs": [],
   "execution_count": 87
  },
  {
   "metadata": {
    "ExecuteTime": {
     "end_time": "2024-09-27T07:59:52.312994Z",
     "start_time": "2024-09-27T07:59:52.300694Z"
    }
   },
   "cell_type": "code",
   "source": "val.game_name.nunique()",
   "id": "d6c52970523f2702",
   "outputs": [
    {
     "data": {
      "text/plain": [
       "227"
      ]
     },
     "execution_count": 88,
     "metadata": {},
     "output_type": "execute_result"
    }
   ],
   "execution_count": 88
  },
  {
   "metadata": {
    "ExecuteTime": {
     "end_time": "2024-09-27T07:59:54.435898Z",
     "start_time": "2024-09-27T07:59:54.424243Z"
    }
   },
   "cell_type": "code",
   "source": "test.game_name.nunique()",
   "id": "5456c6182630f451",
   "outputs": [
    {
     "data": {
      "text/plain": [
       "227"
      ]
     },
     "execution_count": 89,
     "metadata": {},
     "output_type": "execute_result"
    }
   ],
   "execution_count": 89
  },
  {
   "metadata": {
    "ExecuteTime": {
     "end_time": "2024-09-27T07:59:57.502201Z",
     "start_time": "2024-09-27T07:59:57.453515Z"
    }
   },
   "cell_type": "code",
   "source": "train.game_name.nunique()",
   "id": "586c3e00b22156c1",
   "outputs": [
    {
     "data": {
      "text/plain": [
       "227"
      ]
     },
     "execution_count": 90,
     "metadata": {},
     "output_type": "execute_result"
    }
   ],
   "execution_count": 90
  },
  {
   "metadata": {
    "ExecuteTime": {
     "end_time": "2024-09-27T07:59:59.961486Z",
     "start_time": "2024-09-27T07:59:59.956786Z"
    }
   },
   "cell_type": "code",
   "source": "val.shape",
   "id": "50c0111ec981f79",
   "outputs": [
    {
     "data": {
      "text/plain": [
       "(100000, 15)"
      ]
     },
     "execution_count": 91,
     "metadata": {},
     "output_type": "execute_result"
    }
   ],
   "execution_count": 91
  },
  {
   "metadata": {
    "ExecuteTime": {
     "end_time": "2024-09-27T08:00:01.850203Z",
     "start_time": "2024-09-27T08:00:01.845472Z"
    }
   },
   "cell_type": "code",
   "source": "test.shape",
   "id": "923c066477a5cae5",
   "outputs": [
    {
     "data": {
      "text/plain": [
       "(100000, 15)"
      ]
     },
     "execution_count": 92,
     "metadata": {},
     "output_type": "execute_result"
    }
   ],
   "execution_count": 92
  },
  {
   "metadata": {
    "ExecuteTime": {
     "end_time": "2024-09-27T08:00:04.456689Z",
     "start_time": "2024-09-27T08:00:04.451597Z"
    }
   },
   "cell_type": "code",
   "source": "train.shape",
   "id": "df284e9ca4755e4",
   "outputs": [
    {
     "data": {
      "text/plain": [
       "(724955, 15)"
      ]
     },
     "execution_count": 93,
     "metadata": {},
     "output_type": "execute_result"
    }
   ],
   "execution_count": 93
  },
  {
   "metadata": {
    "ExecuteTime": {
     "end_time": "2024-09-27T08:00:17.960200Z",
     "start_time": "2024-09-27T08:00:17.915446Z"
    }
   },
   "cell_type": "code",
   "source": "train.recommendation.value_counts()",
   "id": "879d818dd091954",
   "outputs": [
    {
     "data": {
      "text/plain": [
       "recommendation\n",
       "Recommended        580435\n",
       "Not Recommended    144520\n",
       "Name: count, dtype: int64"
      ]
     },
     "execution_count": 94,
     "metadata": {},
     "output_type": "execute_result"
    }
   ],
   "execution_count": 94
  },
  {
   "metadata": {
    "ExecuteTime": {
     "end_time": "2024-09-27T08:00:24.341553Z",
     "start_time": "2024-09-27T08:00:24.331812Z"
    }
   },
   "cell_type": "code",
   "source": "test.recommendation.value_counts()",
   "id": "dd45d5dad60658ed",
   "outputs": [
    {
     "data": {
      "text/plain": [
       "recommendation\n",
       "Recommended        82562\n",
       "Not Recommended    17438\n",
       "Name: count, dtype: int64"
      ]
     },
     "execution_count": 95,
     "metadata": {},
     "output_type": "execute_result"
    }
   ],
   "execution_count": 95
  },
  {
   "metadata": {
    "ExecuteTime": {
     "end_time": "2024-09-27T08:00:31.979052Z",
     "start_time": "2024-09-27T08:00:31.971055Z"
    }
   },
   "cell_type": "code",
   "source": "val.recommendation.value_counts()",
   "id": "7228cce29b5497ae",
   "outputs": [
    {
     "data": {
      "text/plain": [
       "recommendation\n",
       "Recommended        82358\n",
       "Not Recommended    17642\n",
       "Name: count, dtype: int64"
      ]
     },
     "execution_count": 96,
     "metadata": {},
     "output_type": "execute_result"
    }
   ],
   "execution_count": 96
  },
  {
   "metadata": {},
   "cell_type": "markdown",
   "source": "# Saving train,test,val",
   "id": "971ea9750bc73c82"
  },
  {
   "metadata": {
    "ExecuteTime": {
     "end_time": "2024-09-27T08:00:48.344996Z",
     "start_time": "2024-09-27T08:00:48.340961Z"
    }
   },
   "cell_type": "code",
   "source": [
    "def save(file_name,df):\n",
    "    path=os.path.join(\"..\",\"data\",f\"{file_name}.csv\")\n",
    "    df.to_csv(path,index=False)\n",
    "    return \"Done!\""
   ],
   "id": "cdc999b313475caa",
   "outputs": [],
   "execution_count": 97
  },
  {
   "metadata": {
    "ExecuteTime": {
     "end_time": "2024-09-27T08:01:04.812968Z",
     "start_time": "2024-09-27T08:00:50.722075Z"
    }
   },
   "cell_type": "code",
   "source": "save(\"train\",train)",
   "id": "19113280922f648c",
   "outputs": [
    {
     "data": {
      "text/plain": [
       "'Done!'"
      ]
     },
     "execution_count": 98,
     "metadata": {},
     "output_type": "execute_result"
    }
   ],
   "execution_count": 98
  },
  {
   "metadata": {
    "ExecuteTime": {
     "end_time": "2024-09-27T08:01:07.069190Z",
     "start_time": "2024-09-27T08:01:04.908209Z"
    }
   },
   "cell_type": "code",
   "source": "save(\"val\",val)",
   "id": "701d91dc7e609f10",
   "outputs": [
    {
     "data": {
      "text/plain": [
       "'Done!'"
      ]
     },
     "execution_count": 99,
     "metadata": {},
     "output_type": "execute_result"
    }
   ],
   "execution_count": 99
  },
  {
   "metadata": {
    "ExecuteTime": {
     "end_time": "2024-09-27T08:01:09.354199Z",
     "start_time": "2024-09-27T08:01:07.154361Z"
    }
   },
   "cell_type": "code",
   "source": "save(\"test\",test)",
   "id": "af9898268301623f",
   "outputs": [
    {
     "data": {
      "text/plain": [
       "'Done!'"
      ]
     },
     "execution_count": 100,
     "metadata": {},
     "output_type": "execute_result"
    }
   ],
   "execution_count": 100
  }
 ],
 "metadata": {
  "kernelspec": {
   "display_name": "Python 3",
   "language": "python",
   "name": "python3"
  },
  "language_info": {
   "codemirror_mode": {
    "name": "ipython",
    "version": 2
   },
   "file_extension": ".py",
   "mimetype": "text/x-python",
   "name": "python",
   "nbconvert_exporter": "python",
   "pygments_lexer": "ipython2",
   "version": "2.7.6"
  }
 },
 "nbformat": 4,
 "nbformat_minor": 5
}
